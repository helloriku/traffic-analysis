{
 "cells": [
  {
   "cell_type": "markdown",
   "metadata": {},
   "source": [
    "<font color=green>Wang, Wei, et al. \"End-to-end encrypted traffic classification with one-dimensional convolution neural networks.\" 2017 IEEE International Conference on Intelligence and Security Informatics (ISI). IEEE, 2017.</font>"
   ]
  },
  {
   "cell_type": "markdown",
   "metadata": {},
   "source": [
    "### 处理Pcap工具： SplitCap2.1; finddupe; \n",
    "\n",
    "### 数据集格式：mnist （784 * 1）"
   ]
  },
  {
   "cell_type": "markdown",
   "metadata": {},
   "source": [
    "### ① 1D CNN比 2D效果好\n",
    "### ② 二分类达 100%\n",
    "### ③ 12分类达 96%\n",
    "### ④ 6分类，VPN 97%； NoVPN 94%"
   ]
  },
  {
   "cell_type": "markdown",
   "metadata": {},
   "source": [
    "## <font color= blue>以下代码仅复现 SessionAllLayers </font>"
   ]
  },
  {
   "cell_type": "code",
   "execution_count": 1,
   "metadata": {},
   "outputs": [],
   "source": [
    "import pandas as pd\n",
    "import os\n",
    "import tensorflow as tf\n",
    "import time\n",
    "import numpy as np\n",
    "from tensorflow.examples import input_data\n",
    "import matplotlib.pyplot as plt\n",
    "from sklearn import metrics"
   ]
  },
  {
   "cell_type": "code",
   "execution_count": 47,
   "metadata": {},
   "outputs": [],
   "source": [
    "dir_2class_ALL = r'H:\\VPN-nonVPN(ISCXVPN2016)\\pcaps\\3.PerprocessResults\\2class\\SessionAllLayers'\n",
    "dir_12class_ALL = r'H:\\VPN-nonVPN(ISCXVPN2016)\\pcaps\\3.PerprocessResults\\12class\\SessionAllLayers'\n",
    "dir_6class_Vpn_ALL = r'H:\\VPN-nonVPN(ISCXVPN2016)\\pcaps\\3.PerprocessResults\\6class\\VpnSessionAllLayers'\n",
    "dir_6class_NoVpn_ALL = r'H:\\VPN-nonVPN(ISCXVPN2016)\\pcaps\\3.PerprocessResults\\6class\\NoVpnSessionAllLayers'\n",
    "\n",
    "dir_2class_L7 = r'H:\\VPN-nonVPN(ISCXVPN2016)\\pcaps\\3.PerprocessResults\\2class\\SessionL7'\n",
    "dir_12class_L7 = r'H:\\VPN-nonVPN(ISCXVPN2016)\\pcaps\\3.PerprocessResults\\12class\\SessionL7'\n",
    "dir_6class_NoVpn_L7 = r'H:\\VPN-nonVPN(ISCXVPN2016)\\pcaps\\3.PerprocessResults\\6class\\NoVpnSessionL7'\n",
    "dir_6class_Vpn_L7 = r'H:\\VPN-nonVPN(ISCXVPN2016)\\pcaps\\3.PerprocessResults\\6class\\VpnSessionL7'"
   ]
  },
  {
   "cell_type": "code",
   "execution_count": 3,
   "metadata": {},
   "outputs": [],
   "source": [
    "dict_2class = {0:'Novpn',1:'Vpn'}"
   ]
  },
  {
   "cell_type": "markdown",
   "metadata": {},
   "source": [
    "# <font color=Red>二分类 ACC,REC:100%</font>"
   ]
  },
  {
   "cell_type": "code",
   "execution_count": 4,
   "metadata": {},
   "outputs": [
    {
     "name": "stdout",
     "output_type": "stream",
     "text": [
      "Extracting H:\\VPN-nonVPN(ISCXVPN2016)\\pcaps\\3.PerprocessResults\\2class\\SessionAllLayers\\train-images-idx3-ubyte.gz\n",
      "Extracting H:\\VPN-nonVPN(ISCXVPN2016)\\pcaps\\3.PerprocessResults\\2class\\SessionAllLayers\\train-labels-idx1-ubyte.gz\n",
      "Extracting H:\\VPN-nonVPN(ISCXVPN2016)\\pcaps\\3.PerprocessResults\\2class\\SessionAllLayers\\t10k-images-idx3-ubyte.gz\n",
      "Extracting H:\\VPN-nonVPN(ISCXVPN2016)\\pcaps\\3.PerprocessResults\\2class\\SessionAllLayers\\t10k-labels-idx1-ubyte.gz\n"
     ]
    }
   ],
   "source": [
    "mnist = input_data.read_data_sets(dir_2class_ALL)"
   ]
  },
  {
   "cell_type": "code",
   "execution_count": 5,
   "metadata": {
    "scrolled": true
   },
   "outputs": [
    {
     "data": {
      "text/plain": [
       "['__class__',\n",
       " '__delattr__',\n",
       " '__dict__',\n",
       " '__dir__',\n",
       " '__doc__',\n",
       " '__eq__',\n",
       " '__format__',\n",
       " '__ge__',\n",
       " '__getattribute__',\n",
       " '__gt__',\n",
       " '__hash__',\n",
       " '__init__',\n",
       " '__init_subclass__',\n",
       " '__le__',\n",
       " '__lt__',\n",
       " '__module__',\n",
       " '__ne__',\n",
       " '__new__',\n",
       " '__reduce__',\n",
       " '__reduce_ex__',\n",
       " '__repr__',\n",
       " '__setattr__',\n",
       " '__sizeof__',\n",
       " '__str__',\n",
       " '__subclasshook__',\n",
       " '__weakref__',\n",
       " 'test',\n",
       " 'train',\n",
       " 'validation']"
      ]
     },
     "execution_count": 5,
     "metadata": {},
     "output_type": "execute_result"
    }
   ],
   "source": [
    "dir(mnist)"
   ]
  },
  {
   "cell_type": "code",
   "execution_count": 6,
   "metadata": {
    "scrolled": true
   },
   "outputs": [
    {
     "data": {
      "text/plain": [
       "['__class__',\n",
       " '__delattr__',\n",
       " '__dict__',\n",
       " '__dir__',\n",
       " '__doc__',\n",
       " '__eq__',\n",
       " '__format__',\n",
       " '__ge__',\n",
       " '__getattribute__',\n",
       " '__gt__',\n",
       " '__hash__',\n",
       " '__init__',\n",
       " '__init_subclass__',\n",
       " '__le__',\n",
       " '__lt__',\n",
       " '__module__',\n",
       " '__ne__',\n",
       " '__new__',\n",
       " '__reduce__',\n",
       " '__reduce_ex__',\n",
       " '__repr__',\n",
       " '__setattr__',\n",
       " '__sizeof__',\n",
       " '__str__',\n",
       " '__subclasshook__',\n",
       " '__weakref__',\n",
       " '_epochs_completed',\n",
       " '_images',\n",
       " '_index_in_epoch',\n",
       " '_labels',\n",
       " '_num_examples',\n",
       " 'epochs_completed',\n",
       " 'images',\n",
       " 'labels',\n",
       " 'next_batch',\n",
       " 'num_examples']"
      ]
     },
     "execution_count": 6,
     "metadata": {},
     "output_type": "execute_result"
    }
   ],
   "source": [
    "dir(mnist.train)"
   ]
  },
  {
   "cell_type": "code",
   "execution_count": 7,
   "metadata": {},
   "outputs": [
    {
     "name": "stdout",
     "output_type": "stream",
     "text": [
      "train: 30501\n",
      "test: 3945\n",
      "validation: 5000\n"
     ]
    }
   ],
   "source": [
    "print('train:',mnist.train.num_examples)\n",
    "print('test:',mnist.test.num_examples)\n",
    "print('validation:',mnist.validation.num_examples)"
   ]
  },
  {
   "cell_type": "markdown",
   "metadata": {},
   "source": [
    "## <font color=red>2D可视化</font>"
   ]
  },
  {
   "cell_type": "markdown",
   "metadata": {},
   "source": [
    "### 制作mnist时，使用imload()函数，自动resize为【0,1】的double；\n",
    "### mnist.train.images为55000个长度为784的list元组（1D）；2D可视化需要reshape；"
   ]
  },
  {
   "cell_type": "code",
   "execution_count": 8,
   "metadata": {},
   "outputs": [
    {
     "data": {
      "text/plain": [
       "784"
      ]
     },
     "execution_count": 8,
     "metadata": {},
     "output_type": "execute_result"
    }
   ],
   "source": [
    "len(mnist.train.images[1])"
   ]
  },
  {
   "cell_type": "code",
   "execution_count": 9,
   "metadata": {},
   "outputs": [],
   "source": [
    "tmp_train = np.reshape(mnist.train.images,(-1,28,28))\n",
    "tmp_train = np.expand_dims(tmp_train,axis=-1)"
   ]
  },
  {
   "cell_type": "code",
   "execution_count": 10,
   "metadata": {
    "scrolled": true
   },
   "outputs": [
    {
     "data": {
      "image/png": "[encoded data removed]",
      "text/plain": [
       "<Figure size 432x288 with 4 Axes>"
      ]
     },
     "metadata": {
      "needs_background": "light"
     },
     "output_type": "display_data"
    },
    {
     "data": {
      "image/png": "[encoded data removed]",
      "text/plain": [
       "<Figure size 432x288 with 4 Axes>"
      ]
     },
     "metadata": {
      "needs_background": "light"
     },
     "output_type": "display_data"
    },
    {
     "data": {
      "image/png": "[encoded data removed]",
      "text/plain": [
       "<Figure size 432x288 with 4 Axes>"
      ]
     },
     "metadata": {
      "needs_background": "light"
     },
     "output_type": "display_data"
    },
    {
     "data": {
      "image/png": "[encoded data removed]",
      "text/plain": [
       "<Figure size 432x288 with 4 Axes>"
      ]
     },
     "metadata": {
      "needs_background": "light"
     },
     "output_type": "display_data"
    },
    {
     "data": {
      "image/png": "[encoded data removed]",
      "text/plain": [
       "<Figure size 432x288 with 4 Axes>"
      ]
     },
     "metadata": {
      "needs_background": "light"
     },
     "output_type": "display_data"
    }
   ],
   "source": [
    "for k in range(5):\n",
    "    fig, axs = plt.subplots(1, 4)\n",
    "    for i in range(4):\n",
    "        axs[i].set_title(mnist.train.labels[k*4+i])\n",
    "        axs[i].imshow(tmp_train[k*4+i,:,:,0])\n",
    "    plt.show()"
   ]
  },
  {
   "cell_type": "markdown",
   "metadata": {},
   "source": [
    "## 预处理"
   ]
  },
  {
   "cell_type": "code",
   "execution_count": 11,
   "metadata": {},
   "outputs": [],
   "source": [
    "train_1d = np.expand_dims(mnist.train.images,axis=-1)\n",
    "test_1d = np.expand_dims(mnist.test.images,axis=-1)\n",
    "validation_1d = np.expand_dims(mnist.validation.images,axis=-1)"
   ]
  },
  {
   "cell_type": "markdown",
   "metadata": {},
   "source": [
    "# <font color=red>CNN （1D）</font>"
   ]
  },
  {
   "cell_type": "code",
   "execution_count": 12,
   "metadata": {},
   "outputs": [],
   "source": [
    "class CNN_1d():\n",
    "    def __init__(self,filters=32,kernel_size=2):\n",
    "        self.filters = filters\n",
    "        self.kernel_size = kernel_size\n",
    "    \n",
    "    def model(self):\n",
    "        model = tf.keras.models.Sequential([\n",
    "            tf.keras.layers.Conv1D(\n",
    "                    filters=self.filters,\n",
    "                    kernel_size=self.kernel_size,\n",
    "                    padding='same',\n",
    "                    activation=tf.nn.relu,\n",
    "                    input_shape=(784,1)\n",
    "                ),\n",
    "            tf.keras.layers.MaxPool1D(pool_size=2),\n",
    "            tf.keras.layers.Conv1D(\n",
    "                    filters=64,\n",
    "                    kernel_size=self.kernel_size,\n",
    "                    padding='same',\n",
    "                    activation=tf.nn.relu\n",
    "                ),\n",
    "            tf.keras.layers.MaxPool1D(pool_size=2),\n",
    "            tf.keras.layers.Flatten(),\n",
    "            tf.keras.layers.Dense(units=1024, activation='relu'),\n",
    "            tf.keras.layers.Dropout(0.1),\n",
    "            tf.keras.layers.Dense(units=2, activation='softmax')\n",
    "        ])\n",
    "        model.compile(optimizer = 'adam', loss = 'sparse_categorical_crossentropy', metrics = ['accuracy'])\n",
    "        return model"
   ]
  },
  {
   "cell_type": "code",
   "execution_count": 13,
   "metadata": {},
   "outputs": [],
   "source": [
    "CNN = CNN_1d(32,2).model()"
   ]
  },
  {
   "cell_type": "code",
   "execution_count": 14,
   "metadata": {},
   "outputs": [
    {
     "name": "stdout",
     "output_type": "stream",
     "text": [
      "Model: \"sequential\"\n",
      "_________________________________________________________________\n",
      "Layer (type)                 Output Shape              Param #   \n",
      "=================================================================\n",
      "conv1d (Conv1D)              (None, 784, 32)           96        \n",
      "_________________________________________________________________\n",
      "max_pooling1d (MaxPooling1D) (None, 392, 32)           0         \n",
      "_________________________________________________________________\n",
      "conv1d_1 (Conv1D)            (None, 392, 64)           4160      \n",
      "_________________________________________________________________\n",
      "max_pooling1d_1 (MaxPooling1 (None, 196, 64)           0         \n",
      "_________________________________________________________________\n",
      "flatten (Flatten)            (None, 12544)             0         \n",
      "_________________________________________________________________\n",
      "dense (Dense)                (None, 1024)              12846080  \n",
      "_________________________________________________________________\n",
      "dropout (Dropout)            (None, 1024)              0         \n",
      "_________________________________________________________________\n",
      "dense_1 (Dense)              (None, 2)                 2050      \n",
      "=================================================================\n",
      "Total params: 12,852,386\n",
      "Trainable params: 12,852,386\n",
      "Non-trainable params: 0\n",
      "_________________________________________________________________\n"
     ]
    }
   ],
   "source": [
    "CNN.summary()"
   ]
  },
  {
   "cell_type": "code",
   "execution_count": 15,
   "metadata": {
    "scrolled": true
   },
   "outputs": [
    {
     "name": "stdout",
     "output_type": "stream",
     "text": [
      "Train on 30501 samples, validate on 5000 samples\n",
      "Epoch 1/30\n",
      "30501/30501 [==============================] - 22s 736us/sample - loss: 0.0772 - accuracy: 0.9634 - val_loss: 0.0054 - val_accuracy: 0.9986\n",
      "Epoch 2/30\n",
      "30501/30501 [==============================] - 11s 370us/sample - loss: 0.0042 - accuracy: 0.9991 - val_loss: 0.0029 - val_accuracy: 0.9990\n",
      "Epoch 3/30\n",
      "30501/30501 [==============================] - 12s 378us/sample - loss: 0.0013 - accuracy: 0.9998 - val_loss: 5.3259e-04 - val_accuracy: 1.0000\n",
      "Epoch 4/30\n",
      "30501/30501 [==============================] - 12s 386us/sample - loss: 4.9782e-04 - accuracy: 1.0000 - val_loss: 3.6680e-04 - val_accuracy: 1.0000\n",
      "Epoch 5/30\n",
      "30501/30501 [==============================] - 12s 390us/sample - loss: 3.7880e-04 - accuracy: 1.0000 - val_loss: 3.0421e-04 - val_accuracy: 1.0000\n",
      "Epoch 6/30\n",
      "30501/30501 [==============================] - 12s 382us/sample - loss: 1.7458e-04 - accuracy: 1.0000 - val_loss: 1.5972e-04 - val_accuracy: 1.0000\n",
      "Epoch 7/30\n",
      "30501/30501 [==============================] - 12s 392us/sample - loss: 5.5498e-05 - accuracy: 1.0000 - val_loss: 1.4803e-04 - val_accuracy: 1.0000\n",
      "Epoch 8/30\n",
      "30501/30501 [==============================] - 12s 390us/sample - loss: 4.6904e-05 - accuracy: 1.0000 - val_loss: 1.3220e-04 - val_accuracy: 1.0000\n",
      "Epoch 9/30\n",
      "30501/30501 [==============================] - 12s 392us/sample - loss: 3.0184e-05 - accuracy: 1.0000 - val_loss: 1.6859e-04 - val_accuracy: 1.0000\n",
      "Epoch 10/30\n",
      "30501/30501 [==============================] - 12s 385us/sample - loss: 2.4026e-05 - accuracy: 1.0000 - val_loss: 1.2308e-04 - val_accuracy: 1.0000\n",
      "Epoch 11/30\n",
      "30501/30501 [==============================] - 12s 388us/sample - loss: 2.1075e-05 - accuracy: 1.0000 - val_loss: 1.1190e-04 - val_accuracy: 1.0000\n",
      "Epoch 12/30\n",
      "30501/30501 [==============================] - 12s 389us/sample - loss: 1.6746e-05 - accuracy: 1.0000 - val_loss: 9.6401e-05 - val_accuracy: 1.0000\n",
      "Epoch 13/30\n",
      "30501/30501 [==============================] - 12s 388us/sample - loss: 1.3352e-05 - accuracy: 1.0000 - val_loss: 1.0016e-04 - val_accuracy: 1.0000\n",
      "Epoch 14/30\n",
      "30501/30501 [==============================] - 12s 388us/sample - loss: 1.2982e-05 - accuracy: 1.0000 - val_loss: 1.3491e-04 - val_accuracy: 1.0000\n",
      "Epoch 15/30\n",
      "30501/30501 [==============================] - 12s 387us/sample - loss: 9.6927e-06 - accuracy: 1.0000 - val_loss: 8.5331e-05 - val_accuracy: 1.0000\n",
      "Epoch 16/30\n",
      "30501/30501 [==============================] - 12s 391us/sample - loss: 7.8537e-06 - accuracy: 1.0000 - val_loss: 7.2243e-05 - val_accuracy: 1.0000\n",
      "Epoch 17/30\n",
      "30501/30501 [==============================] - 12s 390us/sample - loss: 6.5451e-06 - accuracy: 1.0000 - val_loss: 9.4424e-05 - val_accuracy: 1.0000\n",
      "Epoch 18/30\n",
      "30501/30501 [==============================] - 12s 386us/sample - loss: 6.3428e-06 - accuracy: 1.0000 - val_loss: 8.0978e-05 - val_accuracy: 1.0000\n",
      "Epoch 19/30\n",
      "30501/30501 [==============================] - 12s 384us/sample - loss: 5.2413e-06 - accuracy: 1.0000 - val_loss: 6.9634e-05 - val_accuracy: 1.0000\n",
      "Epoch 20/30\n",
      "30501/30501 [==============================] - 12s 382us/sample - loss: 4.8575e-06 - accuracy: 1.0000 - val_loss: 6.2567e-05 - val_accuracy: 1.0000\n",
      "Epoch 21/30\n",
      "30501/30501 [==============================] - 12s 383us/sample - loss: 4.3565e-06 - accuracy: 1.0000 - val_loss: 7.0941e-05 - val_accuracy: 1.0000\n",
      "Epoch 22/30\n",
      "30501/30501 [==============================] - 12s 384us/sample - loss: 3.4750e-06 - accuracy: 1.0000 - val_loss: 7.6093e-05 - val_accuracy: 1.0000\n",
      "Epoch 23/30\n",
      "30501/30501 [==============================] - 12s 385us/sample - loss: 4.2508e-06 - accuracy: 1.0000 - val_loss: 1.3579e-04 - val_accuracy: 1.0000\n",
      "Epoch 24/30\n",
      "30501/30501 [==============================] - 12s 385us/sample - loss: 3.3484e-06 - accuracy: 1.0000 - val_loss: 8.4430e-05 - val_accuracy: 1.0000\n",
      "Epoch 25/30\n",
      "30501/30501 [==============================] - 12s 392us/sample - loss: 2.8463e-06 - accuracy: 1.0000 - val_loss: 6.8280e-05 - val_accuracy: 1.0000\n",
      "Epoch 26/30\n",
      "30501/30501 [==============================] - 12s 389us/sample - loss: 2.5597e-06 - accuracy: 1.0000 - val_loss: 5.6204e-05 - val_accuracy: 1.0000\n",
      "Epoch 27/30\n",
      "30501/30501 [==============================] - 12s 390us/sample - loss: 2.5087e-06 - accuracy: 1.0000 - val_loss: 6.5635e-05 - val_accuracy: 1.0000\n",
      "Epoch 28/30\n",
      "30501/30501 [==============================] - 12s 391us/sample - loss: 1.8985e-06 - accuracy: 1.0000 - val_loss: 8.9044e-05 - val_accuracy: 1.0000\n",
      "Epoch 29/30\n",
      "30501/30501 [==============================] - 12s 383us/sample - loss: 2.0738e-06 - accuracy: 1.0000 - val_loss: 6.3286e-05 - val_accuracy: 1.0000\n",
      "Epoch 30/30\n",
      "30501/30501 [==============================] - 12s 387us/sample - loss: 1.7339e-06 - accuracy: 1.0000 - val_loss: 6.2819e-05 - val_accuracy: 1.0000 accuracy: 1.\n"
     ]
    }
   ],
   "source": [
    "CNN_history = CNN.fit(train_1d,\n",
    "                      mnist.train.labels,\n",
    "                      epochs = 30,\n",
    "                      batch_size=512,\n",
    "                      validation_data = (validation_1d,mnist.validation.labels)\n",
    "                     )"
   ]
  },
  {
   "cell_type": "code",
   "execution_count": 16,
   "metadata": {},
   "outputs": [
    {
     "name": "stdout",
     "output_type": "stream",
     "text": [
      "              precision    recall  f1-score   support\n",
      "\n",
      "           0       1.00      1.00      1.00      2692\n",
      "           1       1.00      1.00      1.00      1253\n",
      "\n",
      "    accuracy                           1.00      3945\n",
      "   macro avg       1.00      1.00      1.00      3945\n",
      "weighted avg       1.00      1.00      1.00      3945\n",
      "\n"
     ]
    }
   ],
   "source": [
    "pre = CNN.predict(test_1d)\n",
    "pre = np.argmax(pre, axis=1)\n",
    "print(metrics.classification_report(mnist.test.labels, pre))"
   ]
  },
  {
   "cell_type": "markdown",
   "metadata": {},
   "source": [
    "# <font color=red>12分类  96%</font>"
   ]
  },
  {
   "cell_type": "code",
   "execution_count": 17,
   "metadata": {},
   "outputs": [
    {
     "name": "stdout",
     "output_type": "stream",
     "text": [
      "Extracting H:\\VPN-nonVPN(ISCXVPN2016)\\pcaps\\3.PerprocessResults\\12class\\SessionAllLayers\\train-images-idx3-ubyte.gz\n",
      "Extracting H:\\VPN-nonVPN(ISCXVPN2016)\\pcaps\\3.PerprocessResults\\12class\\SessionAllLayers\\train-labels-idx1-ubyte.gz\n",
      "Extracting H:\\VPN-nonVPN(ISCXVPN2016)\\pcaps\\3.PerprocessResults\\12class\\SessionAllLayers\\t10k-images-idx3-ubyte.gz\n",
      "Extracting H:\\VPN-nonVPN(ISCXVPN2016)\\pcaps\\3.PerprocessResults\\12class\\SessionAllLayers\\t10k-labels-idx1-ubyte.gz\n"
     ]
    }
   ],
   "source": [
    "mnist_12 = input_data.read_data_sets(dir_12class_ALL)"
   ]
  },
  {
   "cell_type": "code",
   "execution_count": 18,
   "metadata": {},
   "outputs": [
    {
     "name": "stdout",
     "output_type": "stream",
     "text": [
      "train: 30501\n",
      "test: 3945\n",
      "validation: 5000\n"
     ]
    }
   ],
   "source": [
    "print('train:',mnist_12.train.num_examples)\n",
    "print('test:',mnist_12.test.num_examples)\n",
    "print('validation:',mnist_12.validation.num_examples)"
   ]
  },
  {
   "cell_type": "code",
   "execution_count": 19,
   "metadata": {},
   "outputs": [],
   "source": [
    "dict_12class = {0:'Chat',1:'Email',2:'File',3:'P2p',4:'Streaming',5:'Voip',6:'Vpn_Chat',7:'Vpn_Email',8:'Vpn_File',9:'Vpn_P2p',10:'Vpn_Streaming',11:'Vpn_Voip'}"
   ]
  },
  {
   "cell_type": "code",
   "execution_count": 20,
   "metadata": {},
   "outputs": [
    {
     "data": {
      "text/plain": [
       "Counter({2: 4625,\n",
       "         5: 4639,\n",
       "         11: 4656,\n",
       "         0: 4657,\n",
       "         1: 4678,\n",
       "         6: 3143,\n",
       "         8: 769,\n",
       "         7: 223,\n",
       "         4: 1449,\n",
       "         10: 496,\n",
       "         3: 796,\n",
       "         9: 370})"
      ]
     },
     "execution_count": 20,
     "metadata": {},
     "output_type": "execute_result"
    }
   ],
   "source": [
    "from collections import Counter\n",
    "Counter(mnist_12.train.labels)"
   ]
  },
  {
   "cell_type": "markdown",
   "metadata": {},
   "source": [
    "## 2D可视化"
   ]
  },
  {
   "cell_type": "code",
   "execution_count": 21,
   "metadata": {},
   "outputs": [],
   "source": [
    "tmp_train = np.reshape(mnist_12.train.images,(-1,28,28))\n",
    "tmp_train = np.expand_dims(tmp_train,axis=-1)"
   ]
  },
  {
   "cell_type": "code",
   "execution_count": 22,
   "metadata": {
    "scrolled": true
   },
   "outputs": [
    {
     "data": {
      "image/png": "[encoded data removed]",
      "text/plain": [
       "<Figure size 432x288 with 4 Axes>"
      ]
     },
     "metadata": {
      "needs_background": "light"
     },
     "output_type": "display_data"
    },
    {
     "data": {
      "image/png": "[encoded data removed]",
      "text/plain": [
       "<Figure size 432x288 with 4 Axes>"
      ]
     },
     "metadata": {
      "needs_background": "light"
     },
     "output_type": "display_data"
    },
    {
     "data": {
      "image/png": "[encoded data removed]",
      "text/plain": [
       "<Figure size 432x288 with 4 Axes>"
      ]
     },
     "metadata": {
      "needs_background": "light"
     },
     "output_type": "display_data"
    },
    {
     "data": {
      "image/png": "[encoded data removed]",
      "text/plain": [
       "<Figure size 432x288 with 4 Axes>"
      ]
     },
     "metadata": {
      "needs_background": "light"
     },
     "output_type": "display_data"
    },
    {
     "data": {
      "image/png": "[encoded data removed]",
      "text/plain": [
       "<Figure size 432x288 with 4 Axes>"
      ]
     },
     "metadata": {
      "needs_background": "light"
     },
     "output_type": "display_data"
    },
    {
     "data": {
      "image/png": "[encoded data removed]",
      "text/plain": [
       "<Figure size 432x288 with 4 Axes>"
      ]
     },
     "metadata": {
      "needs_background": "light"
     },
     "output_type": "display_data"
    },
    {
     "data": {
      "image/png": "[encoded data removed]",
      "text/plain": [
       "<Figure size 432x288 with 4 Axes>"
      ]
     },
     "metadata": {
      "needs_background": "light"
     },
     "output_type": "display_data"
    },
    {
     "data": {
      "image/png": "[encoded data removed]",
      "text/plain": [
       "<Figure size 432x288 with 4 Axes>"
      ]
     },
     "metadata": {
      "needs_background": "light"
     },
     "output_type": "display_data"
    },
    {
     "data": {
      "image/png": "[encoded data removed]",
      "text/plain": [
       "<Figure size 432x288 with 4 Axes>"
      ]
     },
     "metadata": {
      "needs_background": "light"
     },
     "output_type": "display_data"
    },
    {
     "data": {
      "image/png": "[encoded data removed]",
      "text/plain": [
       "<Figure size 432x288 with 4 Axes>"
      ]
     },
     "metadata": {
      "needs_background": "light"
     },
     "output_type": "display_data"
    },
    {
     "data": {
      "image/png": "[encoded data removed]",
      "text/plain": [
       "<Figure size 432x288 with 4 Axes>"
      ]
     },
     "metadata": {
      "needs_background": "light"
     },
     "output_type": "display_data"
    },
    {
     "data": {
      "image/png": "[encoded data removed]",
      "text/plain": [
       "<Figure size 432x288 with 4 Axes>"
      ]
     },
     "metadata": {
      "needs_background": "light"
     },
     "output_type": "display_data"
    }
   ],
   "source": [
    "tmp = {}\n",
    "for i in range(12):\n",
    "    tmp[i] = []\n",
    "\n",
    "for i,d in enumerate(mnist_12.train.labels):\n",
    "    if len(tmp[d]) < 4:\n",
    "        tmp[d].append(i)\n",
    "    c = 0 #满4个的数量\n",
    "    for i in tmp:\n",
    "        if len(tmp[i]) == 4:\n",
    "            c += 1\n",
    "    if c >=12:\n",
    "        break\n",
    "\n",
    "for d in range(12):\n",
    "    fig, axs = plt.subplots(1, 4)\n",
    "    for i in range(4):\n",
    "        axs[i].set_title(d)\n",
    "        axs[i].imshow(tmp_train[tmp[d][i],:,:,0])\n",
    "    plt.show()"
   ]
  },
  {
   "cell_type": "code",
   "execution_count": 23,
   "metadata": {},
   "outputs": [],
   "source": [
    "train_12_1d = np.expand_dims(mnist_12.train.images,axis=-1)\n",
    "test_12_1d = np.expand_dims(mnist_12.test.images,axis=-1)\n",
    "validation_12_1d = np.expand_dims(mnist_12.validation.images,axis=-1)"
   ]
  },
  {
   "cell_type": "code",
   "execution_count": 24,
   "metadata": {},
   "outputs": [],
   "source": [
    "def CNN_12():\n",
    "    model = tf.keras.models.Sequential([\n",
    "        tf.keras.layers.Conv1D(\n",
    "                filters=32,\n",
    "                kernel_size=2,\n",
    "                padding='same',\n",
    "                activation=tf.nn.relu,\n",
    "                input_shape=(784,1)\n",
    "            ),\n",
    "        tf.keras.layers.MaxPool1D(pool_size=2),\n",
    "        tf.keras.layers.Conv1D(\n",
    "                filters=64,\n",
    "                kernel_size=2,\n",
    "                padding='same',\n",
    "                activation=tf.nn.relu\n",
    "            ),\n",
    "        tf.keras.layers.MaxPool1D(pool_size=2),\n",
    "        tf.keras.layers.Flatten(),\n",
    "        tf.keras.layers.Dense(units=1024, activation='relu'),\n",
    "        tf.keras.layers.Dropout(0.1),\n",
    "        tf.keras.layers.Dense(units=12, activation='softmax')\n",
    "    ])\n",
    "    model.compile(optimizer = 'adam', loss = 'sparse_categorical_crossentropy', metrics = ['accuracy'])\n",
    "    return model"
   ]
  },
  {
   "cell_type": "code",
   "execution_count": 25,
   "metadata": {},
   "outputs": [
    {
     "name": "stdout",
     "output_type": "stream",
     "text": [
      "Model: \"sequential_1\"\n",
      "_________________________________________________________________\n",
      "Layer (type)                 Output Shape              Param #   \n",
      "=================================================================\n",
      "conv1d_2 (Conv1D)            (None, 784, 32)           96        \n",
      "_________________________________________________________________\n",
      "max_pooling1d_2 (MaxPooling1 (None, 392, 32)           0         \n",
      "_________________________________________________________________\n",
      "conv1d_3 (Conv1D)            (None, 392, 64)           4160      \n",
      "_________________________________________________________________\n",
      "max_pooling1d_3 (MaxPooling1 (None, 196, 64)           0         \n",
      "_________________________________________________________________\n",
      "flatten_1 (Flatten)          (None, 12544)             0         \n",
      "_________________________________________________________________\n",
      "dense_2 (Dense)              (None, 1024)              12846080  \n",
      "_________________________________________________________________\n",
      "dropout_1 (Dropout)          (None, 1024)              0         \n",
      "_________________________________________________________________\n",
      "dense_3 (Dense)              (None, 12)                12300     \n",
      "=================================================================\n",
      "Total params: 12,862,636\n",
      "Trainable params: 12,862,636\n",
      "Non-trainable params: 0\n",
      "_________________________________________________________________\n"
     ]
    }
   ],
   "source": [
    "cnn_12 = CNN_12()\n",
    "cnn_12.summary()"
   ]
  },
  {
   "cell_type": "code",
   "execution_count": 26,
   "metadata": {
    "scrolled": true
   },
   "outputs": [
    {
     "name": "stdout",
     "output_type": "stream",
     "text": [
      "Train on 30501 samples, validate on 5000 samples\n",
      "Epoch 1/100\n",
      "30501/30501 [==============================] - 12s 389us/sample - loss: 0.7131 - accuracy: 0.7256 - val_loss: 0.4334 - val_accuracy: 0.7958\n",
      "Epoch 2/100\n",
      "30501/30501 [==============================] - 12s 385us/sample - loss: 0.3895 - accuracy: 0.8201 - val_loss: 0.3511 - val_accuracy: 0.8218\n",
      "Epoch 3/100\n",
      "30501/30501 [==============================] - 12s 378us/sample - loss: 0.3121 - accuracy: 0.8482 - val_loss: 0.3288 - val_accuracy: 0.8430\n",
      "Epoch 4/100\n",
      "30501/30501 [==============================] - 12s 381us/sample - loss: 0.2737 - accuracy: 0.8613 - val_loss: 0.2860 - val_accuracy: 0.8526\n",
      "Epoch 5/100\n",
      "30501/30501 [==============================] - 12s 387us/sample - loss: 0.2481 - accuracy: 0.8702 - val_loss: 0.2744 - val_accuracy: 0.8612\n",
      "Epoch 6/100\n",
      "30501/30501 [==============================] - 12s 390us/sample - loss: 0.2283 - accuracy: 0.8766 - val_loss: 0.2631 - val_accuracy: 0.8660\n",
      "Epoch 7/100\n",
      "30501/30501 [==============================] - 12s 387us/sample - loss: 0.2199 - accuracy: 0.8815 - val_loss: 0.2590 - val_accuracy: 0.8648\n",
      "Epoch 8/100\n",
      "30501/30501 [==============================] - 12s 389us/sample - loss: 0.2102 - accuracy: 0.8861 - val_loss: 0.2473 - val_accuracy: 0.8710\n",
      "Epoch 9/100\n",
      "30501/30501 [==============================] - 12s 390us/sample - loss: 0.2019 - accuracy: 0.8892 - val_loss: 0.2517 - val_accuracy: 0.8748\n",
      "Epoch 10/100\n",
      "30501/30501 [==============================] - 12s 386us/sample - loss: 0.1978 - accuracy: 0.8921 - val_loss: 0.2636 - val_accuracy: 0.8698\n",
      "Epoch 11/100\n",
      "30501/30501 [==============================] - 12s 391us/sample - loss: 0.1908 - accuracy: 0.8965 - val_loss: 0.2454 - val_accuracy: 0.8740\n",
      "Epoch 12/100\n",
      "30501/30501 [==============================] - 12s 392us/sample - loss: 0.1870 - accuracy: 0.8979 - val_loss: 0.2523 - val_accuracy: 0.8812loss: 0.1868 - accuracy: \n",
      "Epoch 13/100\n",
      "30501/30501 [==============================] - 12s 391us/sample - loss: 0.1822 - accuracy: 0.9014 - val_loss: 0.2358 - val_accuracy: 0.8804\n",
      "Epoch 14/100\n",
      "30501/30501 [==============================] - 12s 390us/sample - loss: 0.1761 - accuracy: 0.9064 - val_loss: 0.2436 - val_accuracy: 0.88229s - loss: 0.18\n",
      "Epoch 15/100\n",
      "30501/30501 [==============================] - 12s 392us/sample - loss: 0.1779 - accuracy: 0.9038 - val_loss: 0.2471 - val_accuracy: 0.8822\n",
      "Epoch 16/100\n",
      "30501/30501 [==============================] - 12s 389us/sample - loss: 0.1681 - accuracy: 0.9126 - val_loss: 0.2342 - val_accuracy: 0.8896\n",
      "Epoch 17/100\n",
      "30501/30501 [==============================] - 12s 388us/sample - loss: 0.1562 - accuracy: 0.9245 - val_loss: 0.2275 - val_accuracy: 0.9044\n",
      "Epoch 18/100\n",
      "30501/30501 [==============================] - 12s 392us/sample - loss: 0.1466 - accuracy: 0.9340 - val_loss: 0.2289 - val_accuracy: 0.9130\n",
      "Epoch 19/100\n",
      "30501/30501 [==============================] - 12s 388us/sample - loss: 0.1350 - accuracy: 0.9391 - val_loss: 0.2032 - val_accuracy: 0.9218\n",
      "Epoch 20/100\n",
      "30501/30501 [==============================] - 12s 386us/sample - loss: 0.1219 - accuracy: 0.9479 - val_loss: 0.2077 - val_accuracy: 0.9282\n",
      "Epoch 21/100\n",
      "30501/30501 [==============================] - 12s 386us/sample - loss: 0.1002 - accuracy: 0.9626 - val_loss: 0.1797 - val_accuracy: 0.9398\n",
      "Epoch 22/100\n",
      "30501/30501 [==============================] - 12s 391us/sample - loss: 0.0900 - accuracy: 0.9641 - val_loss: 0.1744 - val_accuracy: 0.9372\n",
      "Epoch 23/100\n",
      "30501/30501 [==============================] - 12s 391us/sample - loss: 0.0795 - accuracy: 0.9691 - val_loss: 0.1759 - val_accuracy: 0.9436\n",
      "Epoch 24/100\n",
      "30501/30501 [==============================] - 12s 389us/sample - loss: 0.0705 - accuracy: 0.9717 - val_loss: 0.1617 - val_accuracy: 0.9456\n",
      "Epoch 25/100\n",
      "30501/30501 [==============================] - 12s 389us/sample - loss: 0.0605 - accuracy: 0.9770 - val_loss: 0.1485 - val_accuracy: 0.9514\n",
      "Epoch 26/100\n",
      "30501/30501 [==============================] - 12s 390us/sample - loss: 0.0540 - accuracy: 0.9794 - val_loss: 0.1503 - val_accuracy: 0.9528\n",
      "Epoch 27/100\n",
      "30501/30501 [==============================] - 12s 393us/sample - loss: 0.0510 - accuracy: 0.9810 - val_loss: 0.1547 - val_accuracy: 0.9516\n",
      "Epoch 28/100\n",
      "30501/30501 [==============================] - 12s 394us/sample - loss: 0.0504 - accuracy: 0.9803 - val_loss: 0.1562 - val_accuracy: 0.9510\n",
      "Epoch 29/100\n",
      "30501/30501 [==============================] - 12s 394us/sample - loss: 0.0443 - accuracy: 0.9831 - val_loss: 0.1561 - val_accuracy: 0.9504\n",
      "Epoch 30/100\n",
      "30501/30501 [==============================] - 12s 388us/sample - loss: 0.0424 - accuracy: 0.9836 - val_loss: 0.1484 - val_accuracy: 0.9506\n",
      "Epoch 31/100\n",
      "30501/30501 [==============================] - 12s 391us/sample - loss: 0.0453 - accuracy: 0.9810 - val_loss: 0.1603 - val_accuracy: 0.9520\n",
      "Epoch 32/100\n",
      "30501/30501 [==============================] - 12s 395us/sample - loss: 0.0409 - accuracy: 0.9835 - val_loss: 0.1666 - val_accuracy: 0.9526\n",
      "Epoch 33/100\n",
      "30501/30501 [==============================] - 12s 395us/sample - loss: 0.0391 - accuracy: 0.9845 - val_loss: 0.1532 - val_accuracy: 0.9582\n",
      "Epoch 34/100\n",
      "30501/30501 [==============================] - 12s 389us/sample - loss: 0.0373 - accuracy: 0.9846 - val_loss: 0.1691 - val_accuracy: 0.9514\n",
      "Epoch 35/100\n",
      "30501/30501 [==============================] - 12s 392us/sample - loss: 0.0341 - accuracy: 0.9860 - val_loss: 0.1504 - val_accuracy: 0.9558\n",
      "Epoch 36/100\n",
      "30501/30501 [==============================] - 12s 396us/sample - loss: 0.0319 - accuracy: 0.9865 - val_loss: 0.1621 - val_accuracy: 0.9544\n",
      "Epoch 37/100\n",
      "30501/30501 [==============================] - 12s 389us/sample - loss: 0.0343 - accuracy: 0.9857 - val_loss: 0.1577 - val_accuracy: 0.9540\n",
      "Epoch 38/100\n",
      "30501/30501 [==============================] - 12s 390us/sample - loss: 0.0283 - accuracy: 0.9886 - val_loss: 0.1577 - val_accuracy: 0.9582\n",
      "Epoch 39/100\n",
      "30501/30501 [==============================] - 12s 390us/sample - loss: 0.0289 - accuracy: 0.9885 - val_loss: 0.1597 - val_accuracy: 0.9546\n",
      "Epoch 40/100\n",
      "30501/30501 [==============================] - 12s 390us/sample - loss: 0.0269 - accuracy: 0.9894 - val_loss: 0.1571 - val_accuracy: 0.9572\n",
      "Epoch 41/100\n",
      "30501/30501 [==============================] - 12s 387us/sample - loss: 0.0276 - accuracy: 0.9884 - val_loss: 0.1605 - val_accuracy: 0.9580\n",
      "Epoch 42/100\n",
      "30501/30501 [==============================] - 12s 393us/sample - loss: 0.0258 - accuracy: 0.9894 - val_loss: 0.1728 - val_accuracy: 0.9512\n",
      "Epoch 43/100\n",
      "30501/30501 [==============================] - 12s 394us/sample - loss: 0.0258 - accuracy: 0.9887 - val_loss: 0.1684 - val_accuracy: 0.9570\n",
      "Epoch 44/100\n",
      "30501/30501 [==============================] - 12s 401us/sample - loss: 0.0244 - accuracy: 0.9913 - val_loss: 0.1671 - val_accuracy: 0.9576\n",
      "Epoch 45/100\n",
      "30501/30501 [==============================] - 12s 393us/sample - loss: 0.0236 - accuracy: 0.9910 - val_loss: 0.1644 - val_accuracy: 0.9562\n",
      "Epoch 46/100\n",
      "30501/30501 [==============================] - 12s 394us/sample - loss: 0.0227 - accuracy: 0.9913 - val_loss: 0.1672 - val_accuracy: 0.9556\n",
      "Epoch 47/100\n",
      "30501/30501 [==============================] - 12s 393us/sample - loss: 0.0221 - accuracy: 0.9914 - val_loss: 0.1650 - val_accuracy: 0.9556\n",
      "Epoch 48/100\n",
      "30501/30501 [==============================] - 12s 391us/sample - loss: 0.0206 - accuracy: 0.9921 - val_loss: 0.1657 - val_accuracy: 0.9528\n",
      "Epoch 49/100\n",
      "30501/30501 [==============================] - 12s 394us/sample - loss: 0.0227 - accuracy: 0.9926 - val_loss: 0.1595 - val_accuracy: 0.9572\n",
      "Epoch 50/100\n",
      "30501/30501 [==============================] - 12s 389us/sample - loss: 0.0206 - accuracy: 0.9932 - val_loss: 0.1676 - val_accuracy: 0.9590\n",
      "Epoch 51/100\n",
      "30501/30501 [==============================] - 12s 391us/sample - loss: 0.0262 - accuracy: 0.9903 - val_loss: 0.2192 - val_accuracy: 0.9376\n",
      "Epoch 52/100\n",
      "30501/30501 [==============================] - 12s 390us/sample - loss: 0.0219 - accuracy: 0.9923 - val_loss: 0.1669 - val_accuracy: 0.9584\n",
      "Epoch 53/100\n",
      "30501/30501 [==============================] - 12s 387us/sample - loss: 0.0226 - accuracy: 0.9929 - val_loss: 0.1783 - val_accuracy: 0.9548\n",
      "Epoch 54/100\n"
     ]
    },
    {
     "name": "stdout",
     "output_type": "stream",
     "text": [
      "30501/30501 [==============================] - 12s 391us/sample - loss: 0.0235 - accuracy: 0.9929 - val_loss: 0.1707 - val_accuracy: 0.9548\n",
      "Epoch 55/100\n",
      "30501/30501 [==============================] - 12s 395us/sample - loss: 0.0195 - accuracy: 0.9920 - val_loss: 0.1729 - val_accuracy: 0.9558- loss: 0.0191 - \n",
      "Epoch 56/100\n",
      "30501/30501 [==============================] - 12s 394us/sample - loss: 0.0206 - accuracy: 0.9931 - val_loss: 0.1659 - val_accuracy: 0.9568\n",
      "Epoch 57/100\n",
      "30501/30501 [==============================] - 12s 394us/sample - loss: 0.0176 - accuracy: 0.9943 - val_loss: 0.1828 - val_accuracy: 0.9546\n",
      "Epoch 58/100\n",
      "30501/30501 [==============================] - 12s 395us/sample - loss: 0.0161 - accuracy: 0.9948 - val_loss: 0.1683 - val_accuracy: 0.9590\n",
      "Epoch 59/100\n",
      "30501/30501 [==============================] - 12s 391us/sample - loss: 0.0130 - accuracy: 0.9954 - val_loss: 0.1672 - val_accuracy: 0.9592\n",
      "Epoch 60/100\n",
      "30501/30501 [==============================] - 12s 389us/sample - loss: 0.0115 - accuracy: 0.9965 - val_loss: 0.1737 - val_accuracy: 0.9596\n",
      "Epoch 61/100\n",
      "30501/30501 [==============================] - 12s 389us/sample - loss: 0.0098 - accuracy: 0.9969 - val_loss: 0.1819 - val_accuracy: 0.9590\n",
      "Epoch 62/100\n",
      "30501/30501 [==============================] - 12s 390us/sample - loss: 0.0097 - accuracy: 0.9968 - val_loss: 0.1731 - val_accuracy: 0.9608ccura\n",
      "Epoch 63/100\n",
      "30501/30501 [==============================] - 12s 390us/sample - loss: 0.0113 - accuracy: 0.9970 - val_loss: 0.1739 - val_accuracy: 0.9612\n",
      "Epoch 64/100\n",
      "30501/30501 [==============================] - 12s 391us/sample - loss: 0.0089 - accuracy: 0.9974 - val_loss: 0.1799 - val_accuracy: 0.9592\n",
      "Epoch 65/100\n",
      "30501/30501 [==============================] - 12s 391us/sample - loss: 0.0095 - accuracy: 0.9969 - val_loss: 0.1843 - val_accuracy: 0.9586\n",
      "Epoch 66/100\n",
      "30501/30501 [==============================] - 12s 392us/sample - loss: 0.0095 - accuracy: 0.9974 - val_loss: 0.1865 - val_accuracy: 0.9590\n",
      "Epoch 67/100\n",
      "30501/30501 [==============================] - 12s 393us/sample - loss: 0.0182 - accuracy: 0.9938 - val_loss: 0.1748 - val_accuracy: 0.9566\n",
      "Epoch 68/100\n",
      "30501/30501 [==============================] - 12s 390us/sample - loss: 0.0096 - accuracy: 0.9977 - val_loss: 0.1880 - val_accuracy: 0.9586\n",
      "Epoch 69/100\n",
      "30501/30501 [==============================] - 12s 390us/sample - loss: 0.0074 - accuracy: 0.9986 - val_loss: 0.1918 - val_accuracy: 0.9598\n",
      "Epoch 70/100\n",
      "30501/30501 [==============================] - 12s 390us/sample - loss: 0.0102 - accuracy: 0.9977 - val_loss: 0.1906 - val_accuracy: 0.9576\n",
      "Epoch 71/100\n",
      "30501/30501 [==============================] - 12s 389us/sample - loss: 0.0100 - accuracy: 0.9982 - val_loss: 0.2020 - val_accuracy: 0.9562\n",
      "Epoch 72/100\n",
      "30501/30501 [==============================] - 12s 389us/sample - loss: 0.0123 - accuracy: 0.9969 - val_loss: 0.1771 - val_accuracy: 0.9596\n",
      "Epoch 73/100\n",
      "30501/30501 [==============================] - 12s 390us/sample - loss: 0.0105 - accuracy: 0.9981 - val_loss: 0.1833 - val_accuracy: 0.9580\n",
      "Epoch 74/100\n",
      "30501/30501 [==============================] - 12s 393us/sample - loss: 0.0061 - accuracy: 0.9988 - val_loss: 0.1922 - val_accuracy: 0.9582\n",
      "Epoch 75/100\n",
      "30501/30501 [==============================] - 12s 390us/sample - loss: 0.0058 - accuracy: 0.9987 - val_loss: 0.1792 - val_accuracy: 0.9622\n",
      "Epoch 76/100\n",
      "30501/30501 [==============================] - 12s 388us/sample - loss: 0.0037 - accuracy: 0.9994 - val_loss: 0.1969 - val_accuracy: 0.9608\n",
      "Epoch 77/100\n",
      "30501/30501 [==============================] - 12s 389us/sample - loss: 0.0074 - accuracy: 0.9986 - val_loss: 0.1903 - val_accuracy: 0.9610\n",
      "Epoch 78/100\n",
      "30501/30501 [==============================] - 12s 392us/sample - loss: 0.0046 - accuracy: 0.9993 - val_loss: 0.1837 - val_accuracy: 0.9602\n",
      "Epoch 79/100\n",
      "30501/30501 [==============================] - 12s 390us/sample - loss: 0.0029 - accuracy: 0.9996 - val_loss: 0.1861 - val_accuracy: 0.9604\n",
      "Epoch 80/100\n",
      "30501/30501 [==============================] - 12s 391us/sample - loss: 0.0027 - accuracy: 0.9995 - val_loss: 0.1960 - val_accuracy: 0.9596\n",
      "Epoch 81/100\n",
      "30501/30501 [==============================] - 12s 392us/sample - loss: 0.0021 - accuracy: 0.9999 - val_loss: 0.2000 - val_accuracy: 0.9610\n",
      "Epoch 82/100\n",
      "30501/30501 [==============================] - 12s 394us/sample - loss: 0.0024 - accuracy: 0.9996 - val_loss: 0.2061 - val_accuracy: 0.9596\n",
      "Epoch 83/100\n",
      "30501/30501 [==============================] - 12s 392us/sample - loss: 0.0042 - accuracy: 0.9987 - val_loss: 0.2000 - val_accuracy: 0.9594\n",
      "Epoch 84/100\n",
      "30501/30501 [==============================] - 12s 391us/sample - loss: 0.0034 - accuracy: 0.9994 - val_loss: 0.2099 - val_accuracy: 0.9586\n",
      "Epoch 85/100\n",
      "30501/30501 [==============================] - 12s 390us/sample - loss: 0.0054 - accuracy: 0.9991 - val_loss: 0.2105 - val_accuracy: 0.9584\n",
      "Epoch 86/100\n",
      "30501/30501 [==============================] - 12s 391us/sample - loss: 0.0048 - accuracy: 0.9990 - val_loss: 0.1986 - val_accuracy: 0.9616\n",
      "Epoch 87/100\n",
      "30501/30501 [==============================] - 12s 390us/sample - loss: 0.0029 - accuracy: 0.9994 - val_loss: 0.1952 - val_accuracy: 0.9610\n",
      "Epoch 88/100\n",
      "30501/30501 [==============================] - 12s 388us/sample - loss: 0.0021 - accuracy: 0.9997 - val_loss: 0.2103 - val_accuracy: 0.9580\n",
      "Epoch 89/100\n",
      "30501/30501 [==============================] - 12s 388us/sample - loss: 0.0020 - accuracy: 0.9996 - val_loss: 0.2150 - val_accuracy: 0.9596\n",
      "Epoch 90/100\n",
      "30501/30501 [==============================] - 12s 389us/sample - loss: 0.0668 - accuracy: 0.9830 - val_loss: 0.1780 - val_accuracy: 0.9524\n",
      "Epoch 91/100\n",
      "30501/30501 [==============================] - 12s 389us/sample - loss: 0.0089 - accuracy: 0.9986 - val_loss: 0.1904 - val_accuracy: 0.9578\n",
      "Epoch 92/100\n",
      "30501/30501 [==============================] - 12s 390us/sample - loss: 0.0041 - accuracy: 0.9997 - val_loss: 0.1881 - val_accuracy: 0.9586\n",
      "Epoch 93/100\n",
      "30501/30501 [==============================] - 12s 390us/sample - loss: 0.0033 - accuracy: 0.9996 - val_loss: 0.2014 - val_accuracy: 0.9592\n",
      "Epoch 94/100\n",
      "30501/30501 [==============================] - 12s 390us/sample - loss: 0.0026 - accuracy: 0.9998 - val_loss: 0.1969 - val_accuracy: 0.9604\n",
      "Epoch 95/100\n",
      "30501/30501 [==============================] - 12s 391us/sample - loss: 0.0045 - accuracy: 0.9995 - val_loss: 0.2195 - val_accuracy: 0.9584\n",
      "Epoch 96/100\n",
      "30501/30501 [==============================] - 12s 390us/sample - loss: 0.0024 - accuracy: 0.9998 - val_loss: 0.2019 - val_accuracy: 0.9600\n",
      "Epoch 97/100\n",
      "30501/30501 [==============================] - 12s 389us/sample - loss: 0.0026 - accuracy: 0.9997 - val_loss: 0.2186 - val_accuracy: 0.9598\n",
      "Epoch 98/100\n",
      "30501/30501 [==============================] - 12s 389us/sample - loss: 0.0041 - accuracy: 0.9992 - val_loss: 0.2039 - val_accuracy: 0.9610\n",
      "Epoch 99/100\n",
      "30501/30501 [==============================] - 12s 391us/sample - loss: 0.0026 - accuracy: 0.9997 - val_loss: 0.2039 - val_accuracy: 0.9608ccu - ETA: 0s - loss: 0.0026 - accuracy: 0.99\n",
      "Epoch 100/100\n",
      "30501/30501 [==============================] - 12s 390us/sample - loss: 0.0031 - accuracy: 0.9995 - val_loss: 0.2187 - val_accuracy: 0.9612\n"
     ]
    }
   ],
   "source": [
    "cnn_12_history = cnn_12.fit(train_12_1d,\n",
    "                      mnist_12.train.labels,\n",
    "                      epochs = 50,\n",
    "                      batch_size=512,\n",
    "                      validation_data = (validation_12_1d,mnist_12.validation.labels)\n",
    "                     )"
   ]
  },
  {
   "cell_type": "code",
   "execution_count": 27,
   "metadata": {
    "scrolled": true
   },
   "outputs": [
    {
     "data": {
      "text/plain": [
       "Text(0.5, 1.0, 'Accuracy Curves')"
      ]
     },
     "execution_count": 27,
     "metadata": {},
     "output_type": "execute_result"
    },
    {
     "data": {
      "image/png": "[encoded data removed]",
      "text/plain": [
       "<Figure size 576x432 with 1 Axes>"
      ]
     },
     "metadata": {
      "needs_background": "light"
     },
     "output_type": "display_data"
    },
    {
     "data": {
      "image/png": "[encoded data removed]",
      "text/plain": [
       "<Figure size 576x432 with 1 Axes>"
      ]
     },
     "metadata": {
      "needs_background": "light"
     },
     "output_type": "display_data"
    }
   ],
   "source": [
    "# Loss Curves\n",
    "plt.figure(figsize=[8,6])\n",
    "plt.plot(cnn_12_history.history['loss'],'r',linewidth=3.0)\n",
    "plt.plot(cnn_12_history.history['val_loss'],'b',linewidth=3.0)\n",
    "plt.legend(['Training loss', 'Validation Loss'],fontsize=18)\n",
    "plt.xlabel('Epochs ',fontsize=16)\n",
    "plt.ylabel('Loss',fontsize=16)\n",
    "plt.title('Loss Curves',fontsize=16)\n",
    " \n",
    "# Accuracy Curves\n",
    "plt.figure(figsize=[8,6])\n",
    "plt.plot(cnn_12_history.history['accuracy'],'r',linewidth=3.0)\n",
    "plt.plot(cnn_12_history.history['val_accuracy'],'b',linewidth=3.0)\n",
    "plt.legend(['Training Accuracy', 'Validation Accuracy'],fontsize=18)\n",
    "plt.xlabel('Epochs ',fontsize=16)\n",
    "plt.ylabel('Accuracy',fontsize=16)\n",
    "plt.title('Accuracy Curves',fontsize=16)"
   ]
  },
  {
   "cell_type": "code",
   "execution_count": 28,
   "metadata": {},
   "outputs": [
    {
     "name": "stdout",
     "output_type": "stream",
     "text": [
      "              precision    recall  f1-score   support\n",
      "\n",
      "           0       0.98      0.99      0.99       600\n",
      "           1       0.99      0.98      0.98       600\n",
      "           2       0.90      0.91      0.90       600\n",
      "           3       1.00      0.98      0.99       104\n",
      "           4       0.98      0.97      0.98       188\n",
      "           5       0.91      0.91      0.91       600\n",
      "           6       0.98      0.99      0.99       407\n",
      "           7       0.93      0.93      0.93        30\n",
      "           8       0.94      0.96      0.95       102\n",
      "           9       1.00      0.94      0.97        48\n",
      "          10       1.00      0.97      0.98        66\n",
      "          11       0.99      0.99      0.99       600\n",
      "\n",
      "    accuracy                           0.96      3945\n",
      "   macro avg       0.97      0.96      0.96      3945\n",
      "weighted avg       0.96      0.96      0.96      3945\n",
      "\n"
     ]
    }
   ],
   "source": [
    "pre = cnn_12.predict(test_12_1d)\n",
    "pre = np.argmax(pre, axis=1)\n",
    "print(metrics.classification_report(mnist_12.test.labels, pre))"
   ]
  },
  {
   "cell_type": "markdown",
   "metadata": {},
   "source": [
    "# <font color=red>12分类 2D  92%</font>"
   ]
  },
  {
   "cell_type": "code",
   "execution_count": 29,
   "metadata": {},
   "outputs": [],
   "source": [
    "train_12_2d = np.reshape(mnist_12.train.images,(-1,28,28))\n",
    "train_12_2d = np.expand_dims(train_12_2d,axis=-1)\n",
    "\n",
    "test_12_2d = np.reshape(mnist_12.test.images,(-1,28,28))\n",
    "test_12_2d = np.expand_dims(test_12_2d,axis=-1)\n",
    "\n",
    "validation_12_2d = np.reshape(mnist_12.validation.images,(-1,28,28))\n",
    "validation_12_2d = np.expand_dims(validation_12_2d,axis=-1)"
   ]
  },
  {
   "cell_type": "code",
   "execution_count": 38,
   "metadata": {},
   "outputs": [],
   "source": [
    "def CNN_12_2d():\n",
    "    model = tf.keras.models.Sequential([\n",
    "        tf.keras.layers.Conv2D(\n",
    "                filters=32,\n",
    "                kernel_size=[3,3],\n",
    "                padding='same',\n",
    "                activation=tf.nn.relu,\n",
    "                input_shape=(28,28,1)\n",
    "            ),\n",
    "        tf.keras.layers.MaxPool2D(pool_size=[2,2]),\n",
    "        tf.keras.layers.Conv2D(\n",
    "                filters=64,\n",
    "                kernel_size=[3,3],\n",
    "                padding='same',\n",
    "                activation=tf.nn.relu\n",
    "            ),\n",
    "        tf.keras.layers.MaxPool2D(pool_size=[2,2]),\n",
    "        tf.keras.layers.Flatten(),\n",
    "        tf.keras.layers.Dense(units=1024, activation='relu'),\n",
    "        tf.keras.layers.Dropout(0.1),\n",
    "        tf.keras.layers.Dense(units=12, activation='softmax')\n",
    "    ])\n",
    "    model.compile(optimizer = 'adam', loss = 'sparse_categorical_crossentropy', metrics = ['accuracy'])\n",
    "    return model"
   ]
  },
  {
   "cell_type": "code",
   "execution_count": 39,
   "metadata": {
    "scrolled": true
   },
   "outputs": [
    {
     "name": "stdout",
     "output_type": "stream",
     "text": [
      "Model: \"sequential_5\"\n",
      "_________________________________________________________________\n",
      "Layer (type)                 Output Shape              Param #   \n",
      "=================================================================\n",
      "conv2d_7 (Conv2D)            (None, 28, 28, 32)        320       \n",
      "_________________________________________________________________\n",
      "max_pooling2d (MaxPooling2D) (None, 14, 14, 32)        0         \n",
      "_________________________________________________________________\n",
      "conv2d_8 (Conv2D)            (None, 14, 14, 64)        18496     \n",
      "_________________________________________________________________\n",
      "max_pooling2d_1 (MaxPooling2 (None, 7, 7, 64)          0         \n",
      "_________________________________________________________________\n",
      "flatten_5 (Flatten)          (None, 3136)              0         \n",
      "_________________________________________________________________\n",
      "dense_10 (Dense)             (None, 1024)              3212288   \n",
      "_________________________________________________________________\n",
      "dropout_5 (Dropout)          (None, 1024)              0         \n",
      "_________________________________________________________________\n",
      "dense_11 (Dense)             (None, 12)                12300     \n",
      "=================================================================\n",
      "Total params: 3,243,404\n",
      "Trainable params: 3,243,404\n",
      "Non-trainable params: 0\n",
      "_________________________________________________________________\n"
     ]
    }
   ],
   "source": [
    "cnn_12_2d = CNN_12_2d()\n",
    "cnn_12_2d.summary()"
   ]
  },
  {
   "cell_type": "code",
   "execution_count": 43,
   "metadata": {},
   "outputs": [
    {
     "name": "stdout",
     "output_type": "stream",
     "text": [
      "Train on 30501 samples, validate on 5000 samples\n",
      "Epoch 1/50\n",
      "30501/30501 [==============================] - 7s 222us/sample - loss: 0.9362 - accuracy: 0.6670 - val_loss: 0.5776 - val_accuracy: 0.7510\n",
      "Epoch 2/50\n",
      "30501/30501 [==============================] - 5s 163us/sample - loss: 0.4928 - accuracy: 0.7794 - val_loss: 0.4406 - val_accuracy: 0.8038\n",
      "Epoch 3/50\n",
      "30501/30501 [==============================] - 5s 165us/sample - loss: 0.3954 - accuracy: 0.8166 - val_loss: 0.3927 - val_accuracy: 0.8156\n",
      "Epoch 4/50\n",
      "30501/30501 [==============================] - 5s 166us/sample - loss: 0.3473 - accuracy: 0.8343 - val_loss: 0.3484 - val_accuracy: 0.8330\n",
      "Epoch 5/50\n",
      "30501/30501 [==============================] - 5s 170us/sample - loss: 0.3097 - accuracy: 0.8485 - val_loss: 0.3364 - val_accuracy: 0.8368\n",
      "Epoch 6/50\n",
      "30501/30501 [==============================] - 5s 167us/sample - loss: 0.2904 - accuracy: 0.8549 - val_loss: 0.3177 - val_accuracy: 0.8256\n",
      "Epoch 7/50\n",
      "30501/30501 [==============================] - 5s 168us/sample - loss: 0.2684 - accuracy: 0.8651 - val_loss: 0.3000 - val_accuracy: 0.8448\n",
      "Epoch 8/50\n",
      "30501/30501 [==============================] - 5s 167us/sample - loss: 0.2591 - accuracy: 0.8665 - val_loss: 0.2863 - val_accuracy: 0.8564\n",
      "Epoch 9/50\n",
      "30501/30501 [==============================] - 5s 166us/sample - loss: 0.2440 - accuracy: 0.8714 - val_loss: 0.3016 - val_accuracy: 0.8452\n",
      "Epoch 10/50\n",
      "30501/30501 [==============================] - 5s 167us/sample - loss: 0.2312 - accuracy: 0.8775 - val_loss: 0.2764 - val_accuracy: 0.8564\n",
      "Epoch 11/50\n",
      "30501/30501 [==============================] - 5s 167us/sample - loss: 0.2230 - accuracy: 0.8812 - val_loss: 0.2692 - val_accuracy: 0.8620\n",
      "Epoch 12/50\n",
      "30501/30501 [==============================] - 5s 165us/sample - loss: 0.2172 - accuracy: 0.8833 - val_loss: 0.2651 - val_accuracy: 0.8664\n",
      "Epoch 13/50\n",
      "30501/30501 [==============================] - 5s 165us/sample - loss: 0.2106 - accuracy: 0.8864 - val_loss: 0.2747 - val_accuracy: 0.8590\n",
      "Epoch 14/50\n",
      "30501/30501 [==============================] - 5s 165us/sample - loss: 0.2054 - accuracy: 0.8897 - val_loss: 0.2622 - val_accuracy: 0.8624\n",
      "Epoch 15/50\n",
      "30501/30501 [==============================] - 5s 166us/sample - loss: 0.2006 - accuracy: 0.8903 - val_loss: 0.2655 - val_accuracy: 0.8646\n",
      "Epoch 16/50\n",
      "30501/30501 [==============================] - 5s 168us/sample - loss: 0.1930 - accuracy: 0.8970 - val_loss: 0.2624 - val_accuracy: 0.8720\n",
      "Epoch 17/50\n",
      "30501/30501 [==============================] - 5s 168us/sample - loss: 0.1939 - accuracy: 0.8947 - val_loss: 0.2646 - val_accuracy: 0.8692\n",
      "Epoch 18/50\n",
      "30501/30501 [==============================] - 5s 167us/sample - loss: 0.1910 - accuracy: 0.8972 - val_loss: 0.2567 - val_accuracy: 0.8696\n",
      "Epoch 19/50\n",
      "30501/30501 [==============================] - 5s 167us/sample - loss: 0.1907 - accuracy: 0.8960 - val_loss: 0.2867 - val_accuracy: 0.8616\n",
      "Epoch 20/50\n",
      "30501/30501 [==============================] - 5s 167us/sample - loss: 0.1875 - accuracy: 0.8987 - val_loss: 0.2492 - val_accuracy: 0.8698\n",
      "Epoch 21/50\n",
      "30501/30501 [==============================] - 5s 167us/sample - loss: 0.1813 - accuracy: 0.9058 - val_loss: 0.2585 - val_accuracy: 0.8690\n",
      "Epoch 22/50\n",
      "30501/30501 [==============================] - 5s 168us/sample - loss: 0.1785 - accuracy: 0.9052 - val_loss: 0.2566 - val_accuracy: 0.8760\n",
      "Epoch 23/50\n",
      "30501/30501 [==============================] - 5s 167us/sample - loss: 0.1727 - accuracy: 0.9094 - val_loss: 0.2582 - val_accuracy: 0.8752\n",
      "Epoch 24/50\n",
      "30501/30501 [==============================] - 5s 168us/sample - loss: 0.1713 - accuracy: 0.9091 - val_loss: 0.2564 - val_accuracy: 0.8786\n",
      "Epoch 25/50\n",
      "30501/30501 [==============================] - 5s 168us/sample - loss: 0.1686 - accuracy: 0.9102 - val_loss: 0.2680 - val_accuracy: 0.8762\n",
      "Epoch 26/50\n",
      "30501/30501 [==============================] - 5s 168us/sample - loss: 0.1681 - accuracy: 0.9122 - val_loss: 0.2577 - val_accuracy: 0.8756\n",
      "Epoch 27/50\n",
      "30501/30501 [==============================] - 5s 166us/sample - loss: 0.1607 - accuracy: 0.9171 - val_loss: 0.2747 - val_accuracy: 0.8724\n",
      "Epoch 28/50\n",
      "30501/30501 [==============================] - 5s 167us/sample - loss: 0.1639 - accuracy: 0.9147 - val_loss: 0.2575 - val_accuracy: 0.8858\n",
      "Epoch 29/50\n",
      "30501/30501 [==============================] - 5s 166us/sample - loss: 0.1584 - accuracy: 0.9206 - val_loss: 0.2663 - val_accuracy: 0.8820\n",
      "Epoch 30/50\n",
      "30501/30501 [==============================] - 5s 167us/sample - loss: 0.1602 - accuracy: 0.9181 - val_loss: 0.2499 - val_accuracy: 0.8892\n",
      "Epoch 31/50\n",
      "30501/30501 [==============================] - 5s 167us/sample - loss: 0.1509 - accuracy: 0.9244 - val_loss: 0.2657 - val_accuracy: 0.8868\n",
      "Epoch 32/50\n",
      "30501/30501 [==============================] - 5s 166us/sample - loss: 0.1467 - accuracy: 0.9278 - val_loss: 0.2495 - val_accuracy: 0.8934\n",
      "Epoch 33/50\n",
      "30501/30501 [==============================] - 5s 167us/sample - loss: 0.1448 - accuracy: 0.9286 - val_loss: 0.2590 - val_accuracy: 0.8848\n",
      "Epoch 34/50\n",
      "30501/30501 [==============================] - 5s 167us/sample - loss: 0.1404 - accuracy: 0.9319 - val_loss: 0.2637 - val_accuracy: 0.8892\n",
      "Epoch 35/50\n",
      "30501/30501 [==============================] - 5s 167us/sample - loss: 0.1393 - accuracy: 0.9320 - val_loss: 0.2578 - val_accuracy: 0.8948\n",
      "Epoch 36/50\n",
      "30501/30501 [==============================] - 5s 165us/sample - loss: 0.1338 - accuracy: 0.9352 - val_loss: 0.3253 - val_accuracy: 0.8774\n",
      "Epoch 37/50\n",
      "30501/30501 [==============================] - 5s 166us/sample - loss: 0.1296 - accuracy: 0.9406 - val_loss: 0.2713 - val_accuracy: 0.8980\n",
      "Epoch 38/50\n",
      "30501/30501 [==============================] - 5s 166us/sample - loss: 0.1226 - accuracy: 0.9431 - val_loss: 0.2554 - val_accuracy: 0.9020\n",
      "Epoch 39/50\n",
      "30501/30501 [==============================] - 5s 168us/sample - loss: 0.1195 - accuracy: 0.9447 - val_loss: 0.2659 - val_accuracy: 0.8990\n",
      "Epoch 40/50\n",
      "30501/30501 [==============================] - 5s 167us/sample - loss: 0.1091 - accuracy: 0.9523 - val_loss: 0.2684 - val_accuracy: 0.9050\n",
      "Epoch 41/50\n",
      "30501/30501 [==============================] - 5s 166us/sample - loss: 0.1052 - accuracy: 0.9540 - val_loss: 0.2642 - val_accuracy: 0.9106\n",
      "Epoch 42/50\n",
      "30501/30501 [==============================] - 5s 168us/sample - loss: 0.1026 - accuracy: 0.9551 - val_loss: 0.2864 - val_accuracy: 0.9106\n",
      "Epoch 43/50\n",
      "30501/30501 [==============================] - 5s 169us/sample - loss: 0.0962 - accuracy: 0.9602 - val_loss: 0.2719 - val_accuracy: 0.8896\n",
      "Epoch 44/50\n",
      "30501/30501 [==============================] - 5s 167us/sample - loss: 0.1065 - accuracy: 0.9511 - val_loss: 0.2745 - val_accuracy: 0.9020\n",
      "Epoch 45/50\n",
      "30501/30501 [==============================] - 5s 167us/sample - loss: 0.0872 - accuracy: 0.9643 - val_loss: 0.3185 - val_accuracy: 0.8846\n",
      "Epoch 46/50\n",
      "30501/30501 [==============================] - 5s 166us/sample - loss: 0.0887 - accuracy: 0.9611 - val_loss: 0.2628 - val_accuracy: 0.9078\n",
      "Epoch 47/50\n",
      "30501/30501 [==============================] - 5s 168us/sample - loss: 0.0739 - accuracy: 0.9720 - val_loss: 0.2814 - val_accuracy: 0.9140\n",
      "Epoch 48/50\n",
      "30501/30501 [==============================] - 5s 167us/sample - loss: 0.0738 - accuracy: 0.9714 - val_loss: 0.2612 - val_accuracy: 0.9196\n",
      "Epoch 49/50\n",
      "30501/30501 [==============================] - 5s 169us/sample - loss: 0.0740 - accuracy: 0.9695 - val_loss: 0.2901 - val_accuracy: 0.9024\n",
      "Epoch 50/50\n",
      "30501/30501 [==============================] - 5s 169us/sample - loss: 0.0710 - accuracy: 0.9712 - val_loss: 0.2686 - val_accuracy: 0.9176\n"
     ]
    }
   ],
   "source": [
    "cnn_12_2d_history = cnn_12_2d.fit(train_12_2d,\n",
    "                      mnist_12.train.labels,\n",
    "                      epochs = 50,\n",
    "                      batch_size=512,\n",
    "                      validation_data = (validation_12_2d,mnist_12.validation.labels)\n",
    "                     )"
   ]
  },
  {
   "cell_type": "code",
   "execution_count": 44,
   "metadata": {
    "scrolled": true
   },
   "outputs": [
    {
     "data": {
      "text/plain": [
       "Text(0.5, 1.0, 'Accuracy Curves')"
      ]
     },
     "execution_count": 44,
     "metadata": {},
     "output_type": "execute_result"
    },
    {
     "data": {
      "image/png": "[encoded data removed]",
      "text/plain": [
       "<Figure size 576x432 with 1 Axes>"
      ]
     },
     "metadata": {
      "needs_background": "light"
     },
     "output_type": "display_data"
    },
    {
     "data": {
      "image/png": "[encoded data removed]",
      "text/plain": [
       "<Figure size 576x432 with 1 Axes>"
      ]
     },
     "metadata": {
      "needs_background": "light"
     },
     "output_type": "display_data"
    }
   ],
   "source": [
    "# Loss Curves\n",
    "plt.figure(figsize=[8,6])\n",
    "plt.plot(cnn_12_2d_history.history['loss'],'r',linewidth=3.0)\n",
    "plt.plot(cnn_12_2d_history.history['val_loss'],'b',linewidth=3.0)\n",
    "plt.legend(['Training loss', 'Validation Loss'],fontsize=18)\n",
    "plt.xlabel('Epochs ',fontsize=16)\n",
    "plt.ylabel('Loss',fontsize=16)\n",
    "plt.title('Loss Curves',fontsize=16)\n",
    " \n",
    "# Accuracy Curves\n",
    "plt.figure(figsize=[8,6])\n",
    "plt.plot(cnn_12_2d_history.history['accuracy'],'r',linewidth=3.0)\n",
    "plt.plot(cnn_12_2d_history.history['val_accuracy'],'b',linewidth=3.0)\n",
    "plt.legend(['Training Accuracy', 'Validation Accuracy'],fontsize=18)\n",
    "plt.xlabel('Epochs ',fontsize=16)\n",
    "plt.ylabel('Accuracy',fontsize=16)\n",
    "plt.title('Accuracy Curves',fontsize=16)"
   ]
  },
  {
   "cell_type": "code",
   "execution_count": 46,
   "metadata": {
    "scrolled": true
   },
   "outputs": [
    {
     "name": "stdout",
     "output_type": "stream",
     "text": [
      "              precision    recall  f1-score   support\n",
      "\n",
      "           0       0.86      0.89      0.87       600\n",
      "           1       0.88      0.87      0.88       600\n",
      "           2       0.90      0.88      0.89       600\n",
      "           3       1.00      0.95      0.98       104\n",
      "           4       0.95      0.98      0.97       188\n",
      "           5       0.89      0.89      0.89       600\n",
      "           6       0.99      1.00      0.99       407\n",
      "           7       0.97      0.93      0.95        30\n",
      "           8       0.99      0.94      0.96       102\n",
      "           9       1.00      0.94      0.97        48\n",
      "          10       0.95      0.95      0.95        66\n",
      "          11       1.00      0.99      0.99       600\n",
      "\n",
      "    accuracy                           0.92      3945\n",
      "   macro avg       0.95      0.94      0.94      3945\n",
      "weighted avg       0.92      0.92      0.92      3945\n",
      "\n"
     ]
    }
   ],
   "source": [
    "pre = cnn_12_2d.predict(test_12_2d)\n",
    "pre = np.argmax(pre, axis=1)\n",
    "print(metrics.classification_report(mnist_12.test.labels, pre))"
   ]
  },
  {
   "cell_type": "code",
   "execution_count": null,
   "metadata": {},
   "outputs": [],
   "source": []
  },
  {
   "cell_type": "markdown",
   "metadata": {},
   "source": [
    "# <font color=red>6分类 1D  </font>"
   ]
  },
  {
   "cell_type": "code",
   "execution_count": 48,
   "metadata": {},
   "outputs": [],
   "source": [
    "dict_6class_novpn = {0:'Chat',1:'Email',2:'File',3:'P2p',4:'Streaming',5:'Voip'}\n",
    "dict_6class_vpn = {0:'Vpn_Chat',1:'Vpn_Email',2:'Vpn_File',3:'Vpn_P2p',4:'Vpn_Streaming',5:'Vpn_Voip'}"
   ]
  },
  {
   "cell_type": "markdown",
   "metadata": {},
   "source": [
    "## VPN 97%"
   ]
  },
  {
   "cell_type": "code",
   "execution_count": 49,
   "metadata": {
    "scrolled": true
   },
   "outputs": [
    {
     "name": "stdout",
     "output_type": "stream",
     "text": [
      "Extracting H:\\VPN-nonVPN(ISCXVPN2016)\\pcaps\\3.PerprocessResults\\6class\\VpnSessionAllLayers\\train-images-idx3-ubyte.gz\n",
      "Extracting H:\\VPN-nonVPN(ISCXVPN2016)\\pcaps\\3.PerprocessResults\\6class\\VpnSessionAllLayers\\train-labels-idx1-ubyte.gz\n",
      "Extracting H:\\VPN-nonVPN(ISCXVPN2016)\\pcaps\\3.PerprocessResults\\6class\\VpnSessionAllLayers\\t10k-images-idx3-ubyte.gz\n",
      "Extracting H:\\VPN-nonVPN(ISCXVPN2016)\\pcaps\\3.PerprocessResults\\6class\\VpnSessionAllLayers\\t10k-labels-idx1-ubyte.gz\n",
      "train: 6272\n",
      "test: 1253\n",
      "validation: 5000\n"
     ]
    }
   ],
   "source": [
    "mnist_6Vpn = input_data.read_data_sets(dir_6class_Vpn_ALL)\n",
    "print('train:',mnist_6Vpn.train.num_examples)\n",
    "print('test:',mnist_6Vpn.test.num_examples)\n",
    "print('validation:',mnist_6Vpn.validation.num_examples)"
   ]
  },
  {
   "cell_type": "code",
   "execution_count": 50,
   "metadata": {},
   "outputs": [
    {
     "data": {
      "text/plain": [
       "Counter({0: 2046, 1: 142, 5: 2981, 2: 525, 4: 343, 3: 235})"
      ]
     },
     "execution_count": 50,
     "metadata": {},
     "output_type": "execute_result"
    }
   ],
   "source": [
    "from collections import Counter\n",
    "Counter(mnist_6Vpn.train.labels)"
   ]
  },
  {
   "cell_type": "code",
   "execution_count": 51,
   "metadata": {},
   "outputs": [],
   "source": [
    "train_6Vpn_1d = np.expand_dims(mnist_6Vpn.train.images,axis=-1)\n",
    "test_6Vpn_1d = np.expand_dims(mnist_6Vpn.test.images,axis=-1)\n",
    "validation_6Vpn_1d = np.expand_dims(mnist_6Vpn.validation.images,axis=-1)"
   ]
  },
  {
   "cell_type": "code",
   "execution_count": 52,
   "metadata": {},
   "outputs": [],
   "source": [
    "def CNN_6Vpn():\n",
    "    model = tf.keras.models.Sequential([\n",
    "        tf.keras.layers.Conv1D(\n",
    "                filters=32,\n",
    "                kernel_size=2,\n",
    "                padding='same',\n",
    "                activation=tf.nn.relu,\n",
    "                input_shape=(784,1)\n",
    "            ),\n",
    "        tf.keras.layers.MaxPool1D(pool_size=2),\n",
    "        tf.keras.layers.Conv1D(\n",
    "                filters=64,\n",
    "                kernel_size=2,\n",
    "                padding='same',\n",
    "                activation=tf.nn.relu\n",
    "            ),\n",
    "        tf.keras.layers.MaxPool1D(pool_size=2),\n",
    "        tf.keras.layers.Flatten(),\n",
    "        tf.keras.layers.Dense(units=1024, activation='relu'),\n",
    "        tf.keras.layers.Dropout(0.1),\n",
    "        tf.keras.layers.Dense(units=6, activation='softmax')\n",
    "    ])\n",
    "    model.compile(optimizer = 'adam', loss = 'sparse_categorical_crossentropy', metrics = ['accuracy'])\n",
    "    return model"
   ]
  },
  {
   "cell_type": "code",
   "execution_count": 54,
   "metadata": {
    "scrolled": true
   },
   "outputs": [
    {
     "name": "stdout",
     "output_type": "stream",
     "text": [
      "Model: \"sequential_7\"\n",
      "_________________________________________________________________\n",
      "Layer (type)                 Output Shape              Param #   \n",
      "=================================================================\n",
      "conv1d_6 (Conv1D)            (None, 784, 32)           96        \n",
      "_________________________________________________________________\n",
      "max_pooling1d_13 (MaxPooling (None, 392, 32)           0         \n",
      "_________________________________________________________________\n",
      "conv1d_7 (Conv1D)            (None, 392, 64)           4160      \n",
      "_________________________________________________________________\n",
      "max_pooling1d_14 (MaxPooling (None, 196, 64)           0         \n",
      "_________________________________________________________________\n",
      "flatten_7 (Flatten)          (None, 12544)             0         \n",
      "_________________________________________________________________\n",
      "dense_14 (Dense)             (None, 1024)              12846080  \n",
      "_________________________________________________________________\n",
      "dropout_7 (Dropout)          (None, 1024)              0         \n",
      "_________________________________________________________________\n",
      "dense_15 (Dense)             (None, 6)                 6150      \n",
      "=================================================================\n",
      "Total params: 12,856,486\n",
      "Trainable params: 12,856,486\n",
      "Non-trainable params: 0\n",
      "_________________________________________________________________\n"
     ]
    }
   ],
   "source": [
    "cnn_6vpn = CNN_6Vpn()\n",
    "cnn_6vpn.summary()"
   ]
  },
  {
   "cell_type": "code",
   "execution_count": 55,
   "metadata": {
    "scrolled": true
   },
   "outputs": [
    {
     "name": "stdout",
     "output_type": "stream",
     "text": [
      "Train on 6272 samples, validate on 5000 samples\n",
      "Epoch 1/50\n",
      "6272/6272 [==============================] - 5s 756us/sample - loss: 0.8750 - accuracy: 0.6910 - val_loss: 0.5381 - val_accuracy: 0.8090\n",
      "Epoch 2/50\n",
      "6272/6272 [==============================] - 3s 458us/sample - loss: 0.4695 - accuracy: 0.8347 - val_loss: 0.3906 - val_accuracy: 0.8624\n",
      "Epoch 3/50\n",
      "6272/6272 [==============================] - 3s 458us/sample - loss: 0.3251 - accuracy: 0.8940 - val_loss: 0.2884 - val_accuracy: 0.9030\n",
      "Epoch 4/50\n",
      "6272/6272 [==============================] - 3s 463us/sample - loss: 0.2314 - accuracy: 0.9259 - val_loss: 0.2210 - val_accuracy: 0.9236\n",
      "Epoch 5/50\n",
      "6272/6272 [==============================] - 3s 463us/sample - loss: 0.1727 - accuracy: 0.9452 - val_loss: 0.2044 - val_accuracy: 0.9286\n",
      "Epoch 6/50\n",
      "6272/6272 [==============================] - 3s 470us/sample - loss: 0.1300 - accuracy: 0.9614 - val_loss: 0.1627 - val_accuracy: 0.9484\n",
      "Epoch 7/50\n",
      "6272/6272 [==============================] - 3s 468us/sample - loss: 0.0940 - accuracy: 0.9715 - val_loss: 0.1488 - val_accuracy: 0.9522\n",
      "Epoch 8/50\n",
      "6272/6272 [==============================] - 3s 476us/sample - loss: 0.0720 - accuracy: 0.9794 - val_loss: 0.1341 - val_accuracy: 0.9562\n",
      "Epoch 9/50\n",
      "6272/6272 [==============================] - 3s 472us/sample - loss: 0.0598 - accuracy: 0.9828 - val_loss: 0.1498 - val_accuracy: 0.9536\n",
      "Epoch 10/50\n",
      "6272/6272 [==============================] - 3s 484us/sample - loss: 0.0475 - accuracy: 0.9866 - val_loss: 0.1334 - val_accuracy: 0.9582\n",
      "Epoch 11/50\n",
      "6272/6272 [==============================] - 3s 484us/sample - loss: 0.0374 - accuracy: 0.9909 - val_loss: 0.1134 - val_accuracy: 0.9666\n",
      "Epoch 12/50\n",
      "6272/6272 [==============================] - 3s 476us/sample - loss: 0.0268 - accuracy: 0.9938 - val_loss: 0.1107 - val_accuracy: 0.9676\n",
      "Epoch 13/50\n",
      "6272/6272 [==============================] - 3s 476us/sample - loss: 0.0231 - accuracy: 0.9955 - val_loss: 0.1138 - val_accuracy: 0.9674\n",
      "Epoch 14/50\n",
      "6272/6272 [==============================] - 3s 478us/sample - loss: 0.0189 - accuracy: 0.9959 - val_loss: 0.1025 - val_accuracy: 0.9700\n",
      "Epoch 15/50\n",
      "6272/6272 [==============================] - 3s 476us/sample - loss: 0.0137 - accuracy: 0.9970 - val_loss: 0.1017 - val_accuracy: 0.9702\n",
      "Epoch 16/50\n",
      "6272/6272 [==============================] - 3s 476us/sample - loss: 0.0117 - accuracy: 0.9976 - val_loss: 0.1049 - val_accuracy: 0.9710\n",
      "Epoch 17/50\n",
      "6272/6272 [==============================] - 3s 480us/sample - loss: 0.0097 - accuracy: 0.9978 - val_loss: 0.1004 - val_accuracy: 0.9718\n",
      "Epoch 18/50\n",
      "6272/6272 [==============================] - 3s 481us/sample - loss: 0.0083 - accuracy: 0.9976 - val_loss: 0.0999 - val_accuracy: 0.9712\n",
      "Epoch 19/50\n",
      "6272/6272 [==============================] - 3s 497us/sample - loss: 0.0071 - accuracy: 0.9984 - val_loss: 0.0989 - val_accuracy: 0.9714\n",
      "Epoch 20/50\n",
      "6272/6272 [==============================] - 3s 487us/sample - loss: 0.0064 - accuracy: 0.9984 - val_loss: 0.1000 - val_accuracy: 0.9714\n",
      "Epoch 21/50\n",
      "6272/6272 [==============================] - 3s 473us/sample - loss: 0.0054 - accuracy: 0.9992 - val_loss: 0.0987 - val_accuracy: 0.9722\n",
      "Epoch 22/50\n",
      "6272/6272 [==============================] - 3s 473us/sample - loss: 0.0049 - accuracy: 0.9987 - val_loss: 0.1015 - val_accuracy: 0.9724\n",
      "Epoch 23/50\n",
      "6272/6272 [==============================] - 3s 475us/sample - loss: 0.0048 - accuracy: 0.9992 - val_loss: 0.1026 - val_accuracy: 0.9718\n",
      "Epoch 24/50\n",
      "6272/6272 [==============================] - 3s 472us/sample - loss: 0.0056 - accuracy: 0.9989 - val_loss: 0.0993 - val_accuracy: 0.9728\n",
      "Epoch 25/50\n",
      "6272/6272 [==============================] - 3s 483us/sample - loss: 0.0038 - accuracy: 0.9992 - val_loss: 0.1083 - val_accuracy: 0.9704\n",
      "Epoch 26/50\n",
      "6272/6272 [==============================] - 3s 493us/sample - loss: 0.0050 - accuracy: 0.9982 - val_loss: 0.0977 - val_accuracy: 0.9746\n",
      "Epoch 27/50\n",
      "6272/6272 [==============================] - 3s 487us/sample - loss: 0.0036 - accuracy: 0.9992 - val_loss: 0.1112 - val_accuracy: 0.9716\n",
      "Epoch 28/50\n",
      "6272/6272 [==============================] - 3s 484us/sample - loss: 0.0025 - accuracy: 0.9997 - val_loss: 0.1064 - val_accuracy: 0.9716\n",
      "Epoch 29/50\n",
      "6272/6272 [==============================] - 3s 471us/sample - loss: 0.0029 - accuracy: 0.9992 - val_loss: 0.1012 - val_accuracy: 0.9722\n",
      "Epoch 30/50\n",
      "6272/6272 [==============================] - 3s 471us/sample - loss: 0.0027 - accuracy: 0.9994 - val_loss: 0.1096 - val_accuracy: 0.9716\n",
      "Epoch 31/50\n",
      "6272/6272 [==============================] - 3s 476us/sample - loss: 0.0016 - accuracy: 1.0000 - val_loss: 0.0979 - val_accuracy: 0.9752\n",
      "Epoch 32/50\n",
      "6272/6272 [==============================] - 3s 478us/sample - loss: 0.0016 - accuracy: 1.0000 - val_loss: 0.1018 - val_accuracy: 0.9740\n",
      "Epoch 33/50\n",
      "6272/6272 [==============================] - 3s 473us/sample - loss: 0.0013 - accuracy: 1.0000 - val_loss: 0.1023 - val_accuracy: 0.9732\n",
      "Epoch 34/50\n",
      "6272/6272 [==============================] - 3s 472us/sample - loss: 0.0019 - accuracy: 0.9998 - val_loss: 0.1034 - val_accuracy: 0.9726\n",
      "Epoch 35/50\n",
      "6272/6272 [==============================] - 3s 477us/sample - loss: 0.0018 - accuracy: 0.9998 - val_loss: 0.0994 - val_accuracy: 0.9744\n",
      "Epoch 36/50\n",
      "6272/6272 [==============================] - 3s 478us/sample - loss: 0.0019 - accuracy: 0.9994 - val_loss: 0.1099 - val_accuracy: 0.9732\n",
      "Epoch 37/50\n",
      "6272/6272 [==============================] - 3s 491us/sample - loss: 0.0017 - accuracy: 0.9998 - val_loss: 0.1051 - val_accuracy: 0.9732\n",
      "Epoch 38/50\n",
      "6272/6272 [==============================] - 3s 473us/sample - loss: 0.0030 - accuracy: 0.9995 - val_loss: 0.1050 - val_accuracy: 0.9742\n",
      "Epoch 39/50\n",
      "6272/6272 [==============================] - 3s 482us/sample - loss: 0.0019 - accuracy: 0.9998 - val_loss: 0.1229 - val_accuracy: 0.9706\n",
      "Epoch 40/50\n",
      "6272/6272 [==============================] - 3s 480us/sample - loss: 0.0015 - accuracy: 0.9998 - val_loss: 0.0996 - val_accuracy: 0.9746\n",
      "Epoch 41/50\n",
      "6272/6272 [==============================] - 3s 473us/sample - loss: 0.0013 - accuracy: 0.9997 - val_loss: 0.1027 - val_accuracy: 0.9736\n",
      "Epoch 42/50\n",
      "6272/6272 [==============================] - 3s 478us/sample - loss: 9.6226e-04 - accuracy: 1.0000 - val_loss: 0.1020 - val_accuracy: 0.9744\n",
      "Epoch 43/50\n",
      "6272/6272 [==============================] - 3s 480us/sample - loss: 6.1767e-04 - accuracy: 1.0000 - val_loss: 0.1033 - val_accuracy: 0.9744\n",
      "Epoch 44/50\n",
      "6272/6272 [==============================] - 3s 473us/sample - loss: 5.7387e-04 - accuracy: 1.0000 - val_loss: 0.1024 - val_accuracy: 0.9746\n",
      "Epoch 45/50\n",
      "6272/6272 [==============================] - 3s 470us/sample - loss: 4.9263e-04 - accuracy: 1.0000 - val_loss: 0.1030 - val_accuracy: 0.9738\n",
      "Epoch 46/50\n",
      "6272/6272 [==============================] - 3s 474us/sample - loss: 4.5301e-04 - accuracy: 1.0000 - val_loss: 0.1031 - val_accuracy: 0.9744\n",
      "Epoch 47/50\n",
      "6272/6272 [==============================] - 3s 469us/sample - loss: 4.5694e-04 - accuracy: 1.0000 - val_loss: 0.1046 - val_accuracy: 0.9738\n",
      "Epoch 48/50\n",
      "6272/6272 [==============================] - 3s 475us/sample - loss: 3.7983e-04 - accuracy: 1.0000 - val_loss: 0.1027 - val_accuracy: 0.9754\n",
      "Epoch 49/50\n",
      "6272/6272 [==============================] - 3s 482us/sample - loss: 3.6135e-04 - accuracy: 1.0000 - val_loss: 0.1047 - val_accuracy: 0.9748\n",
      "Epoch 50/50\n",
      "6272/6272 [==============================] - 3s 472us/sample - loss: 3.2226e-04 - accuracy: 1.0000 - val_loss: 0.1058 - val_accuracy: 0.9738\n"
     ]
    }
   ],
   "source": [
    "cnn_6vpn_history = cnn_6vpn.fit(train_6Vpn_1d,\n",
    "                      mnist_6Vpn.train.labels,\n",
    "                      epochs = 50,\n",
    "                      batch_size=512,\n",
    "                      validation_data = (validation_6Vpn_1d,mnist_6Vpn.validation.labels)\n",
    "                     )"
   ]
  },
  {
   "cell_type": "code",
   "execution_count": 56,
   "metadata": {
    "scrolled": true
   },
   "outputs": [
    {
     "data": {
      "text/plain": [
       "Text(0.5, 1.0, 'Accuracy Curves')"
      ]
     },
     "execution_count": 56,
     "metadata": {},
     "output_type": "execute_result"
    },
    {
     "data": {
      "image/png": "[encoded data removed]",
      "text/plain": [
       "<Figure size 576x432 with 1 Axes>"
      ]
     },
     "metadata": {
      "needs_background": "light"
     },
     "output_type": "display_data"
    },
    {
     "data": {
      "image/png": "[encoded data removed]",
      "text/plain": [
       "<Figure size 576x432 with 1 Axes>"
      ]
     },
     "metadata": {
      "needs_background": "light"
     },
     "output_type": "display_data"
    }
   ],
   "source": [
    "# Loss Curves\n",
    "plt.figure(figsize=[8,6])\n",
    "plt.plot(cnn_6vpn_history.history['loss'],'r',linewidth=3.0)\n",
    "plt.plot(cnn_6vpn_history.history['val_loss'],'b',linewidth=3.0)\n",
    "plt.legend(['Training loss', 'Validation Loss'],fontsize=18)\n",
    "plt.xlabel('Epochs ',fontsize=16)\n",
    "plt.ylabel('Loss',fontsize=16)\n",
    "plt.title('Loss Curves',fontsize=16)\n",
    " \n",
    "# Accuracy Curves\n",
    "plt.figure(figsize=[8,6])\n",
    "plt.plot(cnn_6vpn_history.history['accuracy'],'r',linewidth=3.0)\n",
    "plt.plot(cnn_6vpn_history.history['val_accuracy'],'b',linewidth=3.0)\n",
    "plt.legend(['Training Accuracy', 'Validation Accuracy'],fontsize=18)\n",
    "plt.xlabel('Epochs ',fontsize=16)\n",
    "plt.ylabel('Accuracy',fontsize=16)\n",
    "plt.title('Accuracy Curves',fontsize=16)"
   ]
  },
  {
   "cell_type": "code",
   "execution_count": 57,
   "metadata": {},
   "outputs": [
    {
     "name": "stdout",
     "output_type": "stream",
     "text": [
      "              precision    recall  f1-score   support\n",
      "\n",
      "           0       0.97      0.97      0.97       407\n",
      "           1       1.00      0.93      0.97        30\n",
      "           2       0.91      0.89      0.90       102\n",
      "           3       1.00      0.92      0.96        48\n",
      "           4       0.89      0.97      0.93        66\n",
      "           5       0.99      0.99      0.99       600\n",
      "\n",
      "    accuracy                           0.97      1253\n",
      "   macro avg       0.96      0.95      0.95      1253\n",
      "weighted avg       0.97      0.97      0.97      1253\n",
      "\n"
     ]
    }
   ],
   "source": [
    "pre = cnn_6vpn.predict(test_6Vpn_1d)\n",
    "pre = np.argmax(pre, axis=1)\n",
    "print(metrics.classification_report(mnist_6Vpn.test.labels, pre))"
   ]
  },
  {
   "cell_type": "markdown",
   "metadata": {},
   "source": [
    "# NoVpn 94%"
   ]
  },
  {
   "cell_type": "code",
   "execution_count": 58,
   "metadata": {},
   "outputs": [
    {
     "name": "stdout",
     "output_type": "stream",
     "text": [
      "Extracting H:\\VPN-nonVPN(ISCXVPN2016)\\pcaps\\3.PerprocessResults\\6class\\NoVpnSessionAllLayers\\train-images-idx3-ubyte.gz\n",
      "Extracting H:\\VPN-nonVPN(ISCXVPN2016)\\pcaps\\3.PerprocessResults\\6class\\NoVpnSessionAllLayers\\train-labels-idx1-ubyte.gz\n",
      "Extracting H:\\VPN-nonVPN(ISCXVPN2016)\\pcaps\\3.PerprocessResults\\6class\\NoVpnSessionAllLayers\\t10k-images-idx3-ubyte.gz\n",
      "Extracting H:\\VPN-nonVPN(ISCXVPN2016)\\pcaps\\3.PerprocessResults\\6class\\NoVpnSessionAllLayers\\t10k-labels-idx1-ubyte.gz\n",
      "train: 19229\n",
      "test: 2692\n",
      "validation: 5000\n"
     ]
    }
   ],
   "source": [
    "mnist_6NoVpn = input_data.read_data_sets(dir_6class_NoVpn_ALL)\n",
    "print('train:',mnist_6NoVpn.train.num_examples)\n",
    "print('test:',mnist_6NoVpn.test.num_examples)\n",
    "print('validation:',mnist_6NoVpn.validation.num_examples)"
   ]
  },
  {
   "cell_type": "code",
   "execution_count": 59,
   "metadata": {},
   "outputs": [
    {
     "data": {
      "text/plain": [
       "Counter({1: 4260, 5: 4273, 2: 4305, 0: 4318, 3: 747, 4: 1326})"
      ]
     },
     "execution_count": 59,
     "metadata": {},
     "output_type": "execute_result"
    }
   ],
   "source": [
    "Counter(mnist_6NoVpn.train.labels)"
   ]
  },
  {
   "cell_type": "code",
   "execution_count": 60,
   "metadata": {},
   "outputs": [],
   "source": [
    "train_6NoVpn_1d = np.expand_dims(mnist_6NoVpn.train.images,axis=-1)\n",
    "test_6NoVpn_1d = np.expand_dims(mnist_6NoVpn.test.images,axis=-1)\n",
    "validation_6NoVpn_1d = np.expand_dims(mnist_6NoVpn.validation.images,axis=-1)"
   ]
  },
  {
   "cell_type": "code",
   "execution_count": 61,
   "metadata": {},
   "outputs": [],
   "source": [
    "def CNN_6NoVpn():\n",
    "    model = tf.keras.models.Sequential([\n",
    "        tf.keras.layers.Conv1D(\n",
    "                filters=32,\n",
    "                kernel_size=2,\n",
    "                padding='same',\n",
    "                activation=tf.nn.relu,\n",
    "                input_shape=(784,1)\n",
    "            ),\n",
    "        tf.keras.layers.MaxPool1D(pool_size=2),\n",
    "        tf.keras.layers.Conv1D(\n",
    "                filters=64,\n",
    "                kernel_size=2,\n",
    "                padding='same',\n",
    "                activation=tf.nn.relu\n",
    "            ),\n",
    "        tf.keras.layers.MaxPool1D(pool_size=2),\n",
    "        tf.keras.layers.Flatten(),\n",
    "        tf.keras.layers.Dense(units=1024, activation='relu'),\n",
    "        tf.keras.layers.Dropout(0.1),\n",
    "        tf.keras.layers.Dense(units=6, activation='softmax')\n",
    "    ])\n",
    "    model.compile(optimizer = 'adam', loss = 'sparse_categorical_crossentropy', metrics = ['accuracy'])\n",
    "    return model"
   ]
  },
  {
   "cell_type": "code",
   "execution_count": 62,
   "metadata": {
    "scrolled": true
   },
   "outputs": [
    {
     "name": "stdout",
     "output_type": "stream",
     "text": [
      "Model: \"sequential_8\"\n",
      "_________________________________________________________________\n",
      "Layer (type)                 Output Shape              Param #   \n",
      "=================================================================\n",
      "conv1d_8 (Conv1D)            (None, 784, 32)           96        \n",
      "_________________________________________________________________\n",
      "max_pooling1d_15 (MaxPooling (None, 392, 32)           0         \n",
      "_________________________________________________________________\n",
      "conv1d_9 (Conv1D)            (None, 392, 64)           4160      \n",
      "_________________________________________________________________\n",
      "max_pooling1d_16 (MaxPooling (None, 196, 64)           0         \n",
      "_________________________________________________________________\n",
      "flatten_8 (Flatten)          (None, 12544)             0         \n",
      "_________________________________________________________________\n",
      "dense_16 (Dense)             (None, 1024)              12846080  \n",
      "_________________________________________________________________\n",
      "dropout_8 (Dropout)          (None, 1024)              0         \n",
      "_________________________________________________________________\n",
      "dense_17 (Dense)             (None, 6)                 6150      \n",
      "=================================================================\n",
      "Total params: 12,856,486\n",
      "Trainable params: 12,856,486\n",
      "Non-trainable params: 0\n",
      "_________________________________________________________________\n"
     ]
    }
   ],
   "source": [
    "cnn_6NoVpn = CNN_6NoVpn()\n",
    "cnn_6NoVpn.summary()"
   ]
  },
  {
   "cell_type": "code",
   "execution_count": 63,
   "metadata": {
    "scrolled": true
   },
   "outputs": [
    {
     "name": "stdout",
     "output_type": "stream",
     "text": [
      "Train on 19229 samples, validate on 5000 samples\n",
      "Epoch 1/50\n",
      "19229/19229 [==============================] - 8s 421us/sample - loss: 0.7876 - accuracy: 0.6401 - val_loss: 0.5410 - val_accuracy: 0.7472\n",
      "Epoch 2/50\n",
      "19229/19229 [==============================] - 7s 387us/sample - loss: 0.4819 - accuracy: 0.7641 - val_loss: 0.4561 - val_accuracy: 0.7712\n",
      "Epoch 3/50\n",
      "19229/19229 [==============================] - 8s 391us/sample - loss: 0.4174 - accuracy: 0.7854 - val_loss: 0.4369 - val_accuracy: 0.7762\n",
      "Epoch 4/50\n",
      "19229/19229 [==============================] - 8s 396us/sample - loss: 0.3918 - accuracy: 0.7956 - val_loss: 0.4080 - val_accuracy: 0.7836\n",
      "Epoch 5/50\n",
      "19229/19229 [==============================] - 8s 393us/sample - loss: 0.3681 - accuracy: 0.8012 - val_loss: 0.3906 - val_accuracy: 0.7972\n",
      "Epoch 6/50\n",
      "19229/19229 [==============================] - 8s 394us/sample - loss: 0.3498 - accuracy: 0.8126 - val_loss: 0.3887 - val_accuracy: 0.7862\n",
      "Epoch 7/50\n",
      "19229/19229 [==============================] - 8s 395us/sample - loss: 0.3305 - accuracy: 0.8218 - val_loss: 0.3738 - val_accuracy: 0.8066\n",
      "Epoch 8/50\n",
      "19229/19229 [==============================] - 8s 392us/sample - loss: 0.3166 - accuracy: 0.8269 - val_loss: 0.3603 - val_accuracy: 0.8156\n",
      "Epoch 9/50\n",
      "19229/19229 [==============================] - 8s 391us/sample - loss: 0.3081 - accuracy: 0.8295 - val_loss: 0.3583 - val_accuracy: 0.8146\n",
      "Epoch 10/50\n",
      "19229/19229 [==============================] - 8s 399us/sample - loss: 0.3044 - accuracy: 0.8293 - val_loss: 0.3457 - val_accuracy: 0.8192\n",
      "Epoch 11/50\n",
      "19229/19229 [==============================] - 8s 398us/sample - loss: 0.2862 - accuracy: 0.8440 - val_loss: 0.3424 - val_accuracy: 0.8216\n",
      "Epoch 12/50\n",
      "19229/19229 [==============================] - 8s 397us/sample - loss: 0.2801 - accuracy: 0.8469 - val_loss: 0.3471 - val_accuracy: 0.8292\n",
      "Epoch 13/50\n",
      "19229/19229 [==============================] - 8s 398us/sample - loss: 0.2768 - accuracy: 0.8520 - val_loss: 0.3515 - val_accuracy: 0.8176\n",
      "Epoch 14/50\n",
      "19229/19229 [==============================] - 8s 399us/sample - loss: 0.2662 - accuracy: 0.8593 - val_loss: 0.3460 - val_accuracy: 0.8210\n",
      "Epoch 15/50\n",
      "19229/19229 [==============================] - 8s 397us/sample - loss: 0.2544 - accuracy: 0.8666 - val_loss: 0.3341 - val_accuracy: 0.8396\n",
      "Epoch 16/50\n",
      "19229/19229 [==============================] - 8s 400us/sample - loss: 0.2514 - accuracy: 0.8711 - val_loss: 0.3325 - val_accuracy: 0.8316\n",
      "Epoch 17/50\n",
      "19229/19229 [==============================] - 8s 402us/sample - loss: 0.2369 - accuracy: 0.8838 - val_loss: 0.3401 - val_accuracy: 0.8334\n",
      "Epoch 18/50\n",
      "19229/19229 [==============================] - 8s 406us/sample - loss: 0.2318 - accuracy: 0.8845 - val_loss: 0.3188 - val_accuracy: 0.8492\n",
      "Epoch 19/50\n",
      "19229/19229 [==============================] - 8s 398us/sample - loss: 0.2143 - accuracy: 0.9004 - val_loss: 0.3050 - val_accuracy: 0.8922\n",
      "Epoch 20/50\n",
      "19229/19229 [==============================] - 8s 399us/sample - loss: 0.1945 - accuracy: 0.9164 - val_loss: 0.3090 - val_accuracy: 0.8614\n",
      "Epoch 21/50\n",
      "19229/19229 [==============================] - 8s 392us/sample - loss: 0.1947 - accuracy: 0.9116 - val_loss: 0.2974 - val_accuracy: 0.8698\n",
      "Epoch 22/50\n",
      "19229/19229 [==============================] - 8s 392us/sample - loss: 0.1684 - accuracy: 0.9317 - val_loss: 0.2776 - val_accuracy: 0.8954\n",
      "Epoch 23/50\n",
      "19229/19229 [==============================] - 8s 403us/sample - loss: 0.1498 - accuracy: 0.9452 - val_loss: 0.2853 - val_accuracy: 0.8830\n",
      "Epoch 24/50\n",
      "19229/19229 [==============================] - 8s 403us/sample - loss: 0.1529 - accuracy: 0.9346 - val_loss: 0.2453 - val_accuracy: 0.9188\n",
      "Epoch 25/50\n",
      "19229/19229 [==============================] - 8s 396us/sample - loss: 0.1251 - accuracy: 0.9565 - val_loss: 0.2493 - val_accuracy: 0.9088\n",
      "Epoch 26/50\n",
      "19229/19229 [==============================] - 8s 395us/sample - loss: 0.1164 - accuracy: 0.9575 - val_loss: 0.2556 - val_accuracy: 0.9092\n",
      "Epoch 27/50\n",
      "19229/19229 [==============================] - 8s 392us/sample - loss: 0.1079 - accuracy: 0.9594 - val_loss: 0.2327 - val_accuracy: 0.9252\n",
      "Epoch 28/50\n",
      "19229/19229 [==============================] - 8s 398us/sample - loss: 0.0969 - accuracy: 0.9662 - val_loss: 0.2269 - val_accuracy: 0.9322 - loss: 0.0965 - accuracy\n",
      "Epoch 29/50\n",
      "19229/19229 [==============================] - 8s 395us/sample - loss: 0.0927 - accuracy: 0.9668 - val_loss: 0.2324 - val_accuracy: 0.9226\n",
      "Epoch 30/50\n",
      "19229/19229 [==============================] - 8s 391us/sample - loss: 0.0866 - accuracy: 0.9688 - val_loss: 0.2124 - val_accuracy: 0.9344\n",
      "Epoch 31/50\n",
      "19229/19229 [==============================] - 8s 402us/sample - loss: 0.0794 - accuracy: 0.9721 - val_loss: 0.2375 - val_accuracy: 0.9274\n",
      "Epoch 32/50\n",
      "19229/19229 [==============================] - 8s 404us/sample - loss: 0.0862 - accuracy: 0.9667 - val_loss: 0.2218 - val_accuracy: 0.9328\n",
      "Epoch 33/50\n",
      "19229/19229 [==============================] - 8s 397us/sample - loss: 0.0746 - accuracy: 0.9730 - val_loss: 0.2250 - val_accuracy: 0.9320\n",
      "Epoch 34/50\n",
      "19229/19229 [==============================] - 8s 393us/sample - loss: 0.0678 - accuracy: 0.9764 - val_loss: 0.2231 - val_accuracy: 0.9312\n",
      "Epoch 35/50\n",
      "19229/19229 [==============================] - 8s 397us/sample - loss: 0.0605 - accuracy: 0.9796 - val_loss: 0.2117 - val_accuracy: 0.9354\n",
      "Epoch 36/50\n",
      "19229/19229 [==============================] - 8s 396us/sample - loss: 0.0579 - accuracy: 0.9791 - val_loss: 0.2267 - val_accuracy: 0.9298\n",
      "Epoch 37/50\n",
      "19229/19229 [==============================] - 8s 396us/sample - loss: 0.0611 - accuracy: 0.9772 - val_loss: 0.2241 - val_accuracy: 0.9292\n",
      "Epoch 38/50\n",
      "19229/19229 [==============================] - 8s 396us/sample - loss: 0.0567 - accuracy: 0.9789 - val_loss: 0.2139 - val_accuracy: 0.9378\n",
      "Epoch 39/50\n",
      "19229/19229 [==============================] - 8s 402us/sample - loss: 0.0537 - accuracy: 0.9800 - val_loss: 0.2201 - val_accuracy: 0.9362\n",
      "Epoch 40/50\n",
      "19229/19229 [==============================] - 8s 398us/sample - loss: 0.0508 - accuracy: 0.9817 - val_loss: 0.2213 - val_accuracy: 0.9354\n",
      "Epoch 41/50\n",
      "19229/19229 [==============================] - 8s 400us/sample - loss: 0.0462 - accuracy: 0.9835 - val_loss: 0.2311 - val_accuracy: 0.9380\n",
      "Epoch 42/50\n",
      "19229/19229 [==============================] - 8s 397us/sample - loss: 0.0447 - accuracy: 0.9836 - val_loss: 0.2277 - val_accuracy: 0.9398\n",
      "Epoch 43/50\n",
      "19229/19229 [==============================] - 8s 399us/sample - loss: 0.0444 - accuracy: 0.9837 - val_loss: 0.2321 - val_accuracy: 0.9382\n",
      "Epoch 44/50\n",
      "19229/19229 [==============================] - 8s 396us/sample - loss: 0.0502 - accuracy: 0.9800 - val_loss: 0.2143 - val_accuracy: 0.9416\n",
      "Epoch 45/50\n",
      "19229/19229 [==============================] - 8s 397us/sample - loss: 0.0457 - accuracy: 0.9829 - val_loss: 0.2204 - val_accuracy: 0.9386\n",
      "Epoch 46/50\n",
      "19229/19229 [==============================] - 8s 401us/sample - loss: 0.0380 - accuracy: 0.9867 - val_loss: 0.2369 - val_accuracy: 0.9378\n",
      "Epoch 47/50\n",
      "19229/19229 [==============================] - 8s 406us/sample - loss: 0.0375 - accuracy: 0.9868 - val_loss: 0.2224 - val_accuracy: 0.9388\n",
      "Epoch 48/50\n",
      "19229/19229 [==============================] - 8s 413us/sample - loss: 0.0343 - accuracy: 0.9882 - val_loss: 0.2368 - val_accuracy: 0.9390\n",
      "Epoch 49/50\n",
      "19229/19229 [==============================] - 8s 400us/sample - loss: 0.0357 - accuracy: 0.9870 - val_loss: 0.2339 - val_accuracy: 0.9416\n",
      "Epoch 50/50\n",
      "19229/19229 [==============================] - 8s 399us/sample - loss: 0.0319 - accuracy: 0.9891 - val_loss: 0.2408 - val_accuracy: 0.9386\n"
     ]
    }
   ],
   "source": [
    "cnn_6NoVpn_history = cnn_6NoVpn.fit(train_6NoVpn_1d,\n",
    "                      mnist_6NoVpn.train.labels,\n",
    "                      epochs = 50,\n",
    "                      batch_size=512,\n",
    "                      validation_data = (validation_6NoVpn_1d,mnist_6NoVpn.validation.labels)\n",
    "                     )"
   ]
  },
  {
   "cell_type": "code",
   "execution_count": 64,
   "metadata": {},
   "outputs": [
    {
     "name": "stdout",
     "output_type": "stream",
     "text": [
      "              precision    recall  f1-score   support\n",
      "\n",
      "           0       0.97      0.97      0.97       600\n",
      "           1       0.97      0.96      0.97       600\n",
      "           2       0.88      0.91      0.90       600\n",
      "           3       0.97      1.00      0.99       104\n",
      "           4       0.98      0.97      0.97       188\n",
      "           5       0.90      0.89      0.90       600\n",
      "\n",
      "    accuracy                           0.94      2692\n",
      "   macro avg       0.95      0.95      0.95      2692\n",
      "weighted avg       0.94      0.94      0.94      2692\n",
      "\n"
     ]
    }
   ],
   "source": [
    "pre = cnn_6NoVpn.predict(test_6NoVpn_1d)\n",
    "pre = np.argmax(pre, axis=1)\n",
    "print(metrics.classification_report(mnist_6NoVpn.test.labels, pre))"
   ]
  },
  {
   "cell_type": "code",
   "execution_count": null,
   "metadata": {},
   "outputs": [],
   "source": []
  },
  {
   "cell_type": "markdown",
   "metadata": {},
   "source": [
    "# <font color=red>6分类 2D 89% </font>"
   ]
  },
  {
   "cell_type": "code",
   "execution_count": 65,
   "metadata": {},
   "outputs": [],
   "source": [
    "train_6NoVpn_2d = np.reshape(mnist_6NoVpn.train.images,(-1,28,28))\n",
    "train_6NoVpn_2d = np.expand_dims(train_6NoVpn_2d,axis=-1)\n",
    "\n",
    "test_6NoVpn_2d = np.reshape(mnist_6NoVpn.test.images,(-1,28,28))\n",
    "test_6NoVpn_2d = np.expand_dims(test_6NoVpn_2d,axis=-1)\n",
    "\n",
    "validation_6NoVpn_2d = np.reshape(mnist_6NoVpn.validation.images,(-1,28,28))\n",
    "validation_6NoVpn_2d = np.expand_dims(validation_6NoVpn_2d,axis=-1)"
   ]
  },
  {
   "cell_type": "code",
   "execution_count": 68,
   "metadata": {},
   "outputs": [],
   "source": [
    "def CNN_6NoVpn_2d():\n",
    "    model = tf.keras.models.Sequential([\n",
    "        tf.keras.layers.Conv2D(\n",
    "                filters=32,\n",
    "                kernel_size=[3,3],\n",
    "                padding='same',\n",
    "                activation=tf.nn.relu,\n",
    "                input_shape=(28,28,1)\n",
    "            ),\n",
    "        tf.keras.layers.MaxPool2D(pool_size=[2,2]),\n",
    "        tf.keras.layers.Conv2D(\n",
    "                filters=64,\n",
    "                kernel_size=[3,3],\n",
    "                padding='same',\n",
    "                activation=tf.nn.relu\n",
    "            ),\n",
    "        tf.keras.layers.MaxPool2D(pool_size=[2,2]),\n",
    "        tf.keras.layers.Flatten(),\n",
    "        tf.keras.layers.Dense(units=1024, activation='relu'),\n",
    "        tf.keras.layers.Dropout(0.1),\n",
    "        tf.keras.layers.Dense(units=6, activation='softmax')\n",
    "    ])\n",
    "    model.compile(optimizer = 'adam', loss = 'sparse_categorical_crossentropy', metrics = ['accuracy'])\n",
    "    return model"
   ]
  },
  {
   "cell_type": "code",
   "execution_count": 69,
   "metadata": {},
   "outputs": [
    {
     "name": "stdout",
     "output_type": "stream",
     "text": [
      "Model: \"sequential_10\"\n",
      "_________________________________________________________________\n",
      "Layer (type)                 Output Shape              Param #   \n",
      "=================================================================\n",
      "conv2d_11 (Conv2D)           (None, 28, 28, 32)        320       \n",
      "_________________________________________________________________\n",
      "max_pooling2d_4 (MaxPooling2 (None, 14, 14, 32)        0         \n",
      "_________________________________________________________________\n",
      "conv2d_12 (Conv2D)           (None, 14, 14, 64)        18496     \n",
      "_________________________________________________________________\n",
      "max_pooling2d_5 (MaxPooling2 (None, 7, 7, 64)          0         \n",
      "_________________________________________________________________\n",
      "flatten_10 (Flatten)         (None, 3136)              0         \n",
      "_________________________________________________________________\n",
      "dense_20 (Dense)             (None, 1024)              3212288   \n",
      "_________________________________________________________________\n",
      "dropout_10 (Dropout)         (None, 1024)              0         \n",
      "_________________________________________________________________\n",
      "dense_21 (Dense)             (None, 6)                 6150      \n",
      "=================================================================\n",
      "Total params: 3,237,254\n",
      "Trainable params: 3,237,254\n",
      "Non-trainable params: 0\n",
      "_________________________________________________________________\n"
     ]
    }
   ],
   "source": [
    "cnn_6NoVpn_2d = CNN_6NoVpn_2d()\n",
    "cnn_6NoVpn_2d.summary()"
   ]
  },
  {
   "cell_type": "code",
   "execution_count": 70,
   "metadata": {},
   "outputs": [
    {
     "name": "stdout",
     "output_type": "stream",
     "text": [
      "Train on 19229 samples, validate on 5000 samples\n",
      "Epoch 1/50\n",
      "19229/19229 [==============================] - 4s 201us/sample - loss: 0.8695 - accuracy: 0.6205 - val_loss: 0.6342 - val_accuracy: 0.7220\n",
      "Epoch 2/50\n",
      "19229/19229 [==============================] - 3s 167us/sample - loss: 0.5770 - accuracy: 0.7269 - val_loss: 0.5190 - val_accuracy: 0.7446\n",
      "Epoch 3/50\n",
      "19229/19229 [==============================] - 3s 168us/sample - loss: 0.4878 - accuracy: 0.7598 - val_loss: 0.4703 - val_accuracy: 0.7734\n",
      "Epoch 4/50\n",
      "19229/19229 [==============================] - 3s 171us/sample - loss: 0.4372 - accuracy: 0.7817 - val_loss: 0.4407 - val_accuracy: 0.7830\n",
      "Epoch 5/50\n",
      "19229/19229 [==============================] - 3s 172us/sample - loss: 0.4162 - accuracy: 0.7893 - val_loss: 0.4297 - val_accuracy: 0.7822\n",
      "Epoch 6/50\n",
      "19229/19229 [==============================] - 3s 171us/sample - loss: 0.3958 - accuracy: 0.7959 - val_loss: 0.4052 - val_accuracy: 0.7900\n",
      "Epoch 7/50\n",
      "19229/19229 [==============================] - 3s 171us/sample - loss: 0.3830 - accuracy: 0.7995 - val_loss: 0.4245 - val_accuracy: 0.7740\n",
      "Epoch 8/50\n",
      "19229/19229 [==============================] - 3s 173us/sample - loss: 0.3697 - accuracy: 0.8060 - val_loss: 0.3976 - val_accuracy: 0.7990\n",
      "Epoch 9/50\n",
      "19229/19229 [==============================] - 3s 175us/sample - loss: 0.3574 - accuracy: 0.8097 - val_loss: 0.3831 - val_accuracy: 0.7942\n",
      "Epoch 10/50\n",
      "19229/19229 [==============================] - 3s 175us/sample - loss: 0.3346 - accuracy: 0.8211 - val_loss: 0.3796 - val_accuracy: 0.8000\n",
      "Epoch 11/50\n",
      "19229/19229 [==============================] - 3s 175us/sample - loss: 0.3282 - accuracy: 0.8234 - val_loss: 0.3701 - val_accuracy: 0.8034\n",
      "Epoch 12/50\n",
      "19229/19229 [==============================] - 3s 173us/sample - loss: 0.3161 - accuracy: 0.8310 - val_loss: 0.3718 - val_accuracy: 0.8000\n",
      "Epoch 13/50\n",
      "19229/19229 [==============================] - 3s 174us/sample - loss: 0.3096 - accuracy: 0.8375 - val_loss: 0.3617 - val_accuracy: 0.8054\n",
      "Epoch 14/50\n",
      "19229/19229 [==============================] - 3s 175us/sample - loss: 0.2950 - accuracy: 0.8424 - val_loss: 0.3555 - val_accuracy: 0.8172\n",
      "Epoch 15/50\n",
      "19229/19229 [==============================] - 3s 171us/sample - loss: 0.2890 - accuracy: 0.8445 - val_loss: 0.3528 - val_accuracy: 0.8138\n",
      "Epoch 16/50\n",
      "19229/19229 [==============================] - 3s 171us/sample - loss: 0.2869 - accuracy: 0.8471 - val_loss: 0.3690 - val_accuracy: 0.7936\n",
      "Epoch 17/50\n",
      "19229/19229 [==============================] - 3s 169us/sample - loss: 0.2774 - accuracy: 0.8533 - val_loss: 0.3551 - val_accuracy: 0.8056\n",
      "Epoch 18/50\n",
      "19229/19229 [==============================] - 3s 170us/sample - loss: 0.2747 - accuracy: 0.8537 - val_loss: 0.3528 - val_accuracy: 0.8214\n",
      "Epoch 19/50\n",
      "19229/19229 [==============================] - 3s 171us/sample - loss: 0.2734 - accuracy: 0.8513 - val_loss: 0.3460 - val_accuracy: 0.8144\n",
      "Epoch 20/50\n",
      "19229/19229 [==============================] - 3s 171us/sample - loss: 0.2631 - accuracy: 0.8597 - val_loss: 0.3634 - val_accuracy: 0.8112\n",
      "Epoch 21/50\n",
      "19229/19229 [==============================] - 3s 172us/sample - loss: 0.2679 - accuracy: 0.8566 - val_loss: 0.3343 - val_accuracy: 0.8208\n",
      "Epoch 22/50\n",
      "19229/19229 [==============================] - 3s 171us/sample - loss: 0.2585 - accuracy: 0.8653 - val_loss: 0.3421 - val_accuracy: 0.8204\n",
      "Epoch 23/50\n",
      "19229/19229 [==============================] - 3s 171us/sample - loss: 0.2456 - accuracy: 0.8733 - val_loss: 0.3483 - val_accuracy: 0.8284\n",
      "Epoch 24/50\n",
      "19229/19229 [==============================] - 3s 172us/sample - loss: 0.2449 - accuracy: 0.8745 - val_loss: 0.3409 - val_accuracy: 0.8362\n",
      "Epoch 25/50\n",
      "19229/19229 [==============================] - 3s 174us/sample - loss: 0.2381 - accuracy: 0.8775 - val_loss: 0.3444 - val_accuracy: 0.8248\n",
      "Epoch 26/50\n",
      "19229/19229 [==============================] - 3s 176us/sample - loss: 0.2331 - accuracy: 0.8833 - val_loss: 0.3400 - val_accuracy: 0.8348\n",
      "Epoch 27/50\n",
      "19229/19229 [==============================] - 3s 175us/sample - loss: 0.2310 - accuracy: 0.8847 - val_loss: 0.3425 - val_accuracy: 0.8262\n",
      "Epoch 28/50\n",
      "19229/19229 [==============================] - 3s 174us/sample - loss: 0.2301 - accuracy: 0.8838 - val_loss: 0.3353 - val_accuracy: 0.8402\n",
      "Epoch 29/50\n",
      "19229/19229 [==============================] - 3s 175us/sample - loss: 0.2171 - accuracy: 0.8937 - val_loss: 0.3559 - val_accuracy: 0.8298\n",
      "Epoch 30/50\n",
      "19229/19229 [==============================] - 3s 175us/sample - loss: 0.2088 - accuracy: 0.8989 - val_loss: 0.3769 - val_accuracy: 0.8052\n",
      "Epoch 31/50\n",
      "19229/19229 [==============================] - 3s 175us/sample - loss: 0.2219 - accuracy: 0.8851 - val_loss: 0.3332 - val_accuracy: 0.8434\n",
      "Epoch 32/50\n",
      "19229/19229 [==============================] - 3s 176us/sample - loss: 0.2079 - accuracy: 0.9012 - val_loss: 0.3499 - val_accuracy: 0.8376\n",
      "Epoch 33/50\n",
      "19229/19229 [==============================] - 3s 177us/sample - loss: 0.2014 - accuracy: 0.9060 - val_loss: 0.3299 - val_accuracy: 0.8470\n",
      "Epoch 34/50\n",
      "19229/19229 [==============================] - 3s 177us/sample - loss: 0.1905 - accuracy: 0.9134 - val_loss: 0.3368 - val_accuracy: 0.8590\n",
      "Epoch 35/50\n",
      "19229/19229 [==============================] - 3s 177us/sample - loss: 0.1851 - accuracy: 0.9150 - val_loss: 0.3592 - val_accuracy: 0.8498\n",
      "Epoch 36/50\n",
      "19229/19229 [==============================] - 3s 176us/sample - loss: 0.1769 - accuracy: 0.9224 - val_loss: 0.3328 - val_accuracy: 0.8632\n",
      "Epoch 37/50\n",
      "19229/19229 [==============================] - 3s 176us/sample - loss: 0.1809 - accuracy: 0.9164 - val_loss: 0.3546 - val_accuracy: 0.8330\n",
      "Epoch 38/50\n",
      "19229/19229 [==============================] - 3s 178us/sample - loss: 0.1653 - accuracy: 0.9278 - val_loss: 0.3724 - val_accuracy: 0.8386\n",
      "Epoch 39/50\n",
      "19229/19229 [==============================] - 3s 178us/sample - loss: 0.1631 - accuracy: 0.9278 - val_loss: 0.3519 - val_accuracy: 0.8622\n",
      "Epoch 40/50\n",
      "19229/19229 [==============================] - 3s 179us/sample - loss: 0.1512 - accuracy: 0.9371 - val_loss: 0.3351 - val_accuracy: 0.8724\n",
      "Epoch 41/50\n",
      "19229/19229 [==============================] - 3s 178us/sample - loss: 0.1421 - accuracy: 0.9430 - val_loss: 0.3451 - val_accuracy: 0.8650\n",
      "Epoch 42/50\n",
      "19229/19229 [==============================] - 3s 178us/sample - loss: 0.1541 - accuracy: 0.9309 - val_loss: 0.3307 - val_accuracy: 0.8792\n",
      "Epoch 43/50\n",
      "19229/19229 [==============================] - 3s 178us/sample - loss: 0.1614 - accuracy: 0.9253 - val_loss: 0.3390 - val_accuracy: 0.8786\n",
      "Epoch 44/50\n",
      "19229/19229 [==============================] - 3s 177us/sample - loss: 0.1494 - accuracy: 0.9338 - val_loss: 0.3234 - val_accuracy: 0.8714\n",
      "Epoch 45/50\n",
      "19229/19229 [==============================] - 3s 179us/sample - loss: 0.1342 - accuracy: 0.9445 - val_loss: 0.3393 - val_accuracy: 0.8826\n",
      "Epoch 46/50\n",
      "19229/19229 [==============================] - 3s 177us/sample - loss: 0.1195 - accuracy: 0.9527 - val_loss: 0.3676 - val_accuracy: 0.8630\n",
      "Epoch 47/50\n",
      "19229/19229 [==============================] - 3s 177us/sample - loss: 0.1214 - accuracy: 0.9509 - val_loss: 0.3485 - val_accuracy: 0.8782\n",
      "Epoch 48/50\n",
      "19229/19229 [==============================] - 3s 176us/sample - loss: 0.1232 - accuracy: 0.9473 - val_loss: 0.3314 - val_accuracy: 0.8822\n",
      "Epoch 49/50\n",
      "19229/19229 [==============================] - 3s 176us/sample - loss: 0.1308 - accuracy: 0.9440 - val_loss: 0.3501 - val_accuracy: 0.8812\n",
      "Epoch 50/50\n",
      "19229/19229 [==============================] - 3s 179us/sample - loss: 0.1013 - accuracy: 0.9624 - val_loss: 0.3391 - val_accuracy: 0.8902\n"
     ]
    }
   ],
   "source": [
    "cnn_6NoVpn_2d_history = cnn_6NoVpn_2d.fit(train_6NoVpn_2d,\n",
    "                      mnist_6NoVpn.train.labels,\n",
    "                      epochs = 50,\n",
    "                      batch_size=512,\n",
    "                      validation_data = (validation_6NoVpn_2d,mnist_6NoVpn.validation.labels)\n",
    "                     )"
   ]
  },
  {
   "cell_type": "code",
   "execution_count": 71,
   "metadata": {},
   "outputs": [
    {
     "name": "stdout",
     "output_type": "stream",
     "text": [
      "              precision    recall  f1-score   support\n",
      "\n",
      "           0       0.86      0.89      0.87       600\n",
      "           1       0.89      0.87      0.88       600\n",
      "           2       0.90      0.88      0.89       600\n",
      "           3       1.00      0.95      0.98       104\n",
      "           4       0.95      0.98      0.97       188\n",
      "           5       0.89      0.89      0.89       600\n",
      "\n",
      "    accuracy                           0.89      2692\n",
      "   macro avg       0.91      0.91      0.91      2692\n",
      "weighted avg       0.89      0.89      0.89      2692\n",
      "\n"
     ]
    }
   ],
   "source": [
    "pre = cnn_12_2d.predict(test_6NoVpn_2d)\n",
    "pre = np.argmax(pre, axis=1)\n",
    "print(metrics.classification_report(mnist_6NoVpn.test.labels, pre))"
   ]
  },
  {
   "cell_type": "code",
   "execution_count": null,
   "metadata": {},
   "outputs": [],
   "source": []
  }
 ],
 "metadata": {
  "kernelspec": {
   "display_name": "Python 3",
   "language": "python",
   "name": "python3"
  },
  "language_info": {
   "codemirror_mode": {
    "name": "ipython",
    "version": 3
   },
   "file_extension": ".py",
   "mimetype": "text/x-python",
   "name": "python",
   "nbconvert_exporter": "python",
   "pygments_lexer": "ipython3",
   "version": "3.7.3"
  }
 },
 "nbformat": 4,
 "nbformat_minor": 2
}
