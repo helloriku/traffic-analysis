{
 "cells": [
  {
   "cell_type": "code",
   "execution_count": 1,
   "metadata": {},
   "outputs": [],
   "source": [
    "import pandas as pd\n",
    "import numpy as np\n",
    "import os\n",
    "from sklearn.model_selection import train_test_split\n",
    "from sklearn.metrics import classification_report\n",
    "from sklearn import metrics\n",
    "from sklearn.metrics import (precision_score, recall_score,f1_score, accuracy_score,mean_squared_error,mean_absolute_error, roc_curve,auc)\n",
    "from sklearn.metrics import confusion_matrix\n",
    "from sklearn.preprocessing import MinMaxScaler,LabelEncoder\n",
    "%matplotlib inline"
   ]
  },
  {
   "cell_type": "code",
   "execution_count": 2,
   "metadata": {},
   "outputs": [],
   "source": [
    "path = './dataset/'\n",
    "train_path = path + 'KDDTrain+.txt'\n",
    "test_path = path + 'KDDTest+.txt'"
   ]
  },
  {
   "cell_type": "code",
   "execution_count": 3,
   "metadata": {},
   "outputs": [],
   "source": [
    "col_names = [\"duration\",\"protocol_type\",\"service\",\"flag\",\"src_bytes\",\n",
    "    \"dst_bytes\",\"land\",\"wrong_fragment\",\"urgent\",\"hot\",\"num_failed_logins\",\n",
    "    \"logged_in\",\"num_compromised\",\"root_shell\",\"su_attempted\",\"num_root\",\n",
    "    \"num_file_creations\",\"num_shells\",\"num_access_files\",\"num_outbound_cmds\",\n",
    "    \"is_host_login\",\"is_guest_login\",\"count\",\"srv_count\",\"serror_rate\",\n",
    "    \"srv_serror_rate\",\"rerror_rate\",\"srv_rerror_rate\",\"same_srv_rate\",\n",
    "    \"diff_srv_rate\",\"srv_diff_host_rate\",\"dst_host_count\",\"dst_host_srv_count\",\n",
    "    \"dst_host_same_srv_rate\",\"dst_host_diff_srv_rate\",\"dst_host_same_src_port_rate\",\n",
    "    \"dst_host_srv_diff_host_rate\",\"dst_host_serror_rate\",\"dst_host_srv_serror_rate\",\n",
    "    \"dst_host_rerror_rate\",\"dst_host_srv_rerror_rate\",\"label\",\"difficulty_level\"]"
   ]
  },
  {
   "cell_type": "code",
   "execution_count": 4,
   "metadata": {},
   "outputs": [
    {
     "name": "stdout",
     "output_type": "stream",
     "text": [
      "Dimensions of the Training set: (125973, 43)\n",
      "Dimensions of the Test set: (22544, 43)\n"
     ]
    }
   ],
   "source": [
    "traindata = pd.read_csv(train_path, header=None, names = col_names)\n",
    "testdata = pd.read_csv(test_path, header=None, names = col_names)\n",
    "print('Dimensions of the Training set:',traindata.shape)\n",
    "print('Dimensions of the Test set:',testdata.shape)"
   ]
  },
  {
   "cell_type": "code",
   "execution_count": 5,
   "metadata": {},
   "outputs": [],
   "source": [
    "traindata.drop('difficulty_level', axis=1, inplace=True)\n",
    "testdata.drop('difficulty_level', axis=1, inplace=True)"
   ]
  },
  {
   "cell_type": "markdown",
   "metadata": {},
   "source": [
    "## label分布"
   ]
  },
  {
   "cell_type": "code",
   "execution_count": 6,
   "metadata": {},
   "outputs": [],
   "source": [
    "label_count = traindata.label.value_counts()"
   ]
  },
  {
   "cell_type": "code",
   "execution_count": 7,
   "metadata": {},
   "outputs": [
    {
     "data": {
      "text/plain": [
       "<matplotlib.axes._subplots.AxesSubplot at 0x231afffa668>"
      ]
     },
     "execution_count": 7,
     "metadata": {},
     "output_type": "execute_result"
    },
    {
     "data": {
      "image/png": "[encoded data removed]",
      "text/plain": [
       "<Figure size 432x288 with 1 Axes>"
      ]
     },
     "metadata": {
      "needs_background": "light"
     },
     "output_type": "display_data"
    }
   ],
   "source": [
    "label_count.plot(kind='barh', title='Count (labels)')"
   ]
  },
  {
   "cell_type": "markdown",
   "metadata": {},
   "source": [
    "## 特征数字化"
   ]
  },
  {
   "cell_type": "code",
   "execution_count": 8,
   "metadata": {},
   "outputs": [],
   "source": [
    "prot_dict = {'tcp':0, 'udp':1, 'icmp':2}\n",
    "serv_dict = {'aol':0, 'auth':1, 'bgp':2, 'courier':3, 'csnet_ns':4,'ctf':5, 'daytime':6, 'discard':7,\n",
    "             'domain':8, 'domain_u':9,'echo':10, 'eco_i':11, 'ecr_i':12, 'efs':13, 'exec':14,'finger':15,\n",
    "             'ftp':16, 'ftp_data':17, 'gopher':18, 'harvest':19,'hostnames':20, 'http':21, 'http_2784':22,\n",
    "             'http_443':23, 'http_8001':24,'imap4':25, 'IRC':26, 'iso_tsap':27, 'klogin':28, 'kshell':29,\n",
    "             'ldap':30, 'link':31, 'login':32, 'mtp':33, 'name':34,'netbios_dgm':35, 'netbios_ns':36,\n",
    "             'netbios_ssn':37, 'netstat':38, 'nnsp':39,'nntp':40, 'ntp_u':41, 'other':42, 'pm_dump':43, \n",
    "             'pop_2':44,'pop_3':45, 'printer':46, 'private':47, 'red_i':48, 'remote_job':49,'rje':50, \n",
    "             'shell':51, 'smtp':52, 'sql_net':53, 'ssh':54,'sunrpc':55, 'supdup':56, 'systat':57, \n",
    "             'telnet':58, 'tftp_u':59,'tim_i':60, 'time':61, 'urh_i':62, 'urp_i':63, 'uucp':64,\n",
    "             'uucp_path':65, 'vmnet':66, 'whois':67, 'X11':68, 'Z39_50':69}\n",
    "# 只有SF正常\n",
    "flag_dict = {'OTH':0, 'REJ':0, 'RSTO':0,'RSTOS0':0, 'RSTR':0, 'S0':0,'S1':0, 'S2':0, 'S3':0,'SF':1, 'SH':0}"
   ]
  },
  {
   "cell_type": "code",
   "execution_count": 9,
   "metadata": {},
   "outputs": [],
   "source": [
    "traindata['protocol_type'] = traindata['protocol_type'].map(prot_dict)\n",
    "traindata['service'] = traindata['service'].map(serv_dict)\n",
    "traindata['flag'] = traindata['flag'].map(flag_dict)\n",
    "testdata['protocol_type'] = testdata['protocol_type'].map(prot_dict)\n",
    "testdata['service'] = testdata['service'].map(serv_dict)\n",
    "testdata['flag'] = testdata['flag'].map(flag_dict)"
   ]
  },
  {
   "cell_type": "markdown",
   "metadata": {},
   "source": [
    "## 类别细分类"
   ]
  },
  {
   "cell_type": "code",
   "execution_count": 10,
   "metadata": {},
   "outputs": [],
   "source": [
    "attacks = traindata['label'].unique().tolist() + testdata['label'].unique().tolist()\n",
    "attacks = sorted(set(attacks),key=attacks.index)\n",
    "traindata['label_fine'] = traindata['label'].apply(lambda x : attacks.index(x))\n",
    "testdata['label_fine'] = testdata['label'].apply(lambda x : attacks.index(x))\n",
    "traindata.drop('label', axis=1, inplace=True)\n",
    "testdata.drop('label', axis=1, inplace=True)"
   ]
  },
  {
   "cell_type": "markdown",
   "metadata": {},
   "source": [
    "## 类别粗分类"
   ]
  },
  {
   "cell_type": "code",
   "execution_count": 11,
   "metadata": {},
   "outputs": [],
   "source": [
    "NORMAL = [attacks.index('normal')]\n",
    "PROBE = [attacks.index(x) for x in ['ipsweep','mscan','nmap','portsweep','saint','satan']]\n",
    "DOS = [attacks.index(x) for x in ['apache2','back','land','mailbomb','neptune','pod','processtable','smurf','teardrop','udpstorm']]\n",
    "U2R = [attacks.index(x) for x in ['buffer_overflow','httptunnel','loadmodule','perl','ps','rootkit','sqlattack','xterm']]\n",
    "R2L = [attacks.index(x) for x in ['ftp_write','guess_passwd','imap','multihop','named','phf','sendmail','snmpgetattack','snmpguess','spy','warezclient','warezmaster','worm','xlock','xsnoop']]"
   ]
  },
  {
   "cell_type": "code",
   "execution_count": 12,
   "metadata": {},
   "outputs": [],
   "source": [
    "coarse_dic = {\n",
    "    'NORMAL':0,\n",
    "    'PROBE':1,\n",
    "    'DOS':2,\n",
    "    'U2R':3,\n",
    "    'R2L':4}\n",
    "def coarse_helper(x):\n",
    "    if x in NORMAL:\n",
    "        return coarse_dic['NORMAL']\n",
    "    elif x in PROBE:\n",
    "        return coarse_dic['PROBE']\n",
    "    elif x in DOS:\n",
    "        return coarse_dic['DOS']\n",
    "    elif x in U2R:\n",
    "        return coarse_dic['U2R']\n",
    "    elif x in R2L:\n",
    "        return coarse_dic['R2L']\n",
    "traindata['label_coarse'] = traindata['label_fine'].apply(lambda x : coarse_helper(x))\n",
    "testdata['label_coarse'] = testdata['label_fine'].apply(lambda x : coarse_helper(x))"
   ]
  },
  {
   "cell_type": "code",
   "execution_count": 13,
   "metadata": {},
   "outputs": [
    {
     "data": {
      "text/plain": [
       "Index(['duration', 'protocol_type', 'service', 'flag', 'src_bytes',\n",
       "       'dst_bytes', 'land', 'wrong_fragment', 'urgent', 'hot',\n",
       "       'num_failed_logins', 'logged_in', 'num_compromised', 'root_shell',\n",
       "       'su_attempted', 'num_root', 'num_file_creations', 'num_shells',\n",
       "       'num_access_files', 'num_outbound_cmds', 'is_host_login',\n",
       "       'is_guest_login', 'count', 'srv_count', 'serror_rate',\n",
       "       'srv_serror_rate', 'rerror_rate', 'srv_rerror_rate', 'same_srv_rate',\n",
       "       'diff_srv_rate', 'srv_diff_host_rate', 'dst_host_count',\n",
       "       'dst_host_srv_count', 'dst_host_same_srv_rate',\n",
       "       'dst_host_diff_srv_rate', 'dst_host_same_src_port_rate',\n",
       "       'dst_host_srv_diff_host_rate', 'dst_host_serror_rate',\n",
       "       'dst_host_srv_serror_rate', 'dst_host_rerror_rate',\n",
       "       'dst_host_srv_rerror_rate', 'label_fine', 'label_coarse'],\n",
       "      dtype='object')"
      ]
     },
     "execution_count": 13,
     "metadata": {},
     "output_type": "execute_result"
    }
   ],
   "source": [
    "traindata.columns"
   ]
  },
  {
   "cell_type": "code",
   "execution_count": 14,
   "metadata": {},
   "outputs": [
    {
     "data": {
      "text/html": [
       "<div>\n",
       "<style scoped>\n",
       "    .dataframe tbody tr th:only-of-type {\n",
       "        vertical-align: middle;\n",
       "    }\n",
       "\n",
       "    .dataframe tbody tr th {\n",
       "        vertical-align: top;\n",
       "    }\n",
       "\n",
       "    .dataframe thead th {\n",
       "        text-align: right;\n",
       "    }\n",
       "</style>\n",
       "<table border=\"1\" class=\"dataframe\">\n",
       "  <thead>\n",
       "    <tr style=\"text-align: right;\">\n",
       "      <th></th>\n",
       "      <th>duration</th>\n",
       "      <th>protocol_type</th>\n",
       "      <th>service</th>\n",
       "      <th>flag</th>\n",
       "      <th>src_bytes</th>\n",
       "      <th>dst_bytes</th>\n",
       "      <th>land</th>\n",
       "      <th>wrong_fragment</th>\n",
       "      <th>urgent</th>\n",
       "      <th>hot</th>\n",
       "      <th>...</th>\n",
       "      <th>dst_host_same_srv_rate</th>\n",
       "      <th>dst_host_diff_srv_rate</th>\n",
       "      <th>dst_host_same_src_port_rate</th>\n",
       "      <th>dst_host_srv_diff_host_rate</th>\n",
       "      <th>dst_host_serror_rate</th>\n",
       "      <th>dst_host_srv_serror_rate</th>\n",
       "      <th>dst_host_rerror_rate</th>\n",
       "      <th>dst_host_srv_rerror_rate</th>\n",
       "      <th>label_fine</th>\n",
       "      <th>label_coarse</th>\n",
       "    </tr>\n",
       "  </thead>\n",
       "  <tbody>\n",
       "    <tr>\n",
       "      <th>0</th>\n",
       "      <td>0</td>\n",
       "      <td>0</td>\n",
       "      <td>17</td>\n",
       "      <td>1</td>\n",
       "      <td>491</td>\n",
       "      <td>0</td>\n",
       "      <td>0</td>\n",
       "      <td>0</td>\n",
       "      <td>0</td>\n",
       "      <td>0</td>\n",
       "      <td>...</td>\n",
       "      <td>0.17</td>\n",
       "      <td>0.03</td>\n",
       "      <td>0.17</td>\n",
       "      <td>0.00</td>\n",
       "      <td>0.00</td>\n",
       "      <td>0.00</td>\n",
       "      <td>0.05</td>\n",
       "      <td>0.00</td>\n",
       "      <td>0</td>\n",
       "      <td>0</td>\n",
       "    </tr>\n",
       "    <tr>\n",
       "      <th>1</th>\n",
       "      <td>0</td>\n",
       "      <td>1</td>\n",
       "      <td>42</td>\n",
       "      <td>1</td>\n",
       "      <td>146</td>\n",
       "      <td>0</td>\n",
       "      <td>0</td>\n",
       "      <td>0</td>\n",
       "      <td>0</td>\n",
       "      <td>0</td>\n",
       "      <td>...</td>\n",
       "      <td>0.00</td>\n",
       "      <td>0.60</td>\n",
       "      <td>0.88</td>\n",
       "      <td>0.00</td>\n",
       "      <td>0.00</td>\n",
       "      <td>0.00</td>\n",
       "      <td>0.00</td>\n",
       "      <td>0.00</td>\n",
       "      <td>0</td>\n",
       "      <td>0</td>\n",
       "    </tr>\n",
       "    <tr>\n",
       "      <th>2</th>\n",
       "      <td>0</td>\n",
       "      <td>0</td>\n",
       "      <td>47</td>\n",
       "      <td>0</td>\n",
       "      <td>0</td>\n",
       "      <td>0</td>\n",
       "      <td>0</td>\n",
       "      <td>0</td>\n",
       "      <td>0</td>\n",
       "      <td>0</td>\n",
       "      <td>...</td>\n",
       "      <td>0.10</td>\n",
       "      <td>0.05</td>\n",
       "      <td>0.00</td>\n",
       "      <td>0.00</td>\n",
       "      <td>1.00</td>\n",
       "      <td>1.00</td>\n",
       "      <td>0.00</td>\n",
       "      <td>0.00</td>\n",
       "      <td>1</td>\n",
       "      <td>2</td>\n",
       "    </tr>\n",
       "    <tr>\n",
       "      <th>3</th>\n",
       "      <td>0</td>\n",
       "      <td>0</td>\n",
       "      <td>21</td>\n",
       "      <td>1</td>\n",
       "      <td>232</td>\n",
       "      <td>8153</td>\n",
       "      <td>0</td>\n",
       "      <td>0</td>\n",
       "      <td>0</td>\n",
       "      <td>0</td>\n",
       "      <td>...</td>\n",
       "      <td>1.00</td>\n",
       "      <td>0.00</td>\n",
       "      <td>0.03</td>\n",
       "      <td>0.04</td>\n",
       "      <td>0.03</td>\n",
       "      <td>0.01</td>\n",
       "      <td>0.00</td>\n",
       "      <td>0.01</td>\n",
       "      <td>0</td>\n",
       "      <td>0</td>\n",
       "    </tr>\n",
       "    <tr>\n",
       "      <th>4</th>\n",
       "      <td>0</td>\n",
       "      <td>0</td>\n",
       "      <td>21</td>\n",
       "      <td>1</td>\n",
       "      <td>199</td>\n",
       "      <td>420</td>\n",
       "      <td>0</td>\n",
       "      <td>0</td>\n",
       "      <td>0</td>\n",
       "      <td>0</td>\n",
       "      <td>...</td>\n",
       "      <td>1.00</td>\n",
       "      <td>0.00</td>\n",
       "      <td>0.00</td>\n",
       "      <td>0.00</td>\n",
       "      <td>0.00</td>\n",
       "      <td>0.00</td>\n",
       "      <td>0.00</td>\n",
       "      <td>0.00</td>\n",
       "      <td>0</td>\n",
       "      <td>0</td>\n",
       "    </tr>\n",
       "  </tbody>\n",
       "</table>\n",
       "<p>5 rows × 43 columns</p>\n",
       "</div>"
      ],
      "text/plain": [
       "   duration  protocol_type  service  flag  src_bytes  dst_bytes  land  \\\n",
       "0         0              0       17     1        491          0     0   \n",
       "1         0              1       42     1        146          0     0   \n",
       "2         0              0       47     0          0          0     0   \n",
       "3         0              0       21     1        232       8153     0   \n",
       "4         0              0       21     1        199        420     0   \n",
       "\n",
       "   wrong_fragment  urgent  hot  ...  dst_host_same_srv_rate  \\\n",
       "0               0       0    0  ...                    0.17   \n",
       "1               0       0    0  ...                    0.00   \n",
       "2               0       0    0  ...                    0.10   \n",
       "3               0       0    0  ...                    1.00   \n",
       "4               0       0    0  ...                    1.00   \n",
       "\n",
       "   dst_host_diff_srv_rate  dst_host_same_src_port_rate  \\\n",
       "0                    0.03                         0.17   \n",
       "1                    0.60                         0.88   \n",
       "2                    0.05                         0.00   \n",
       "3                    0.00                         0.03   \n",
       "4                    0.00                         0.00   \n",
       "\n",
       "   dst_host_srv_diff_host_rate  dst_host_serror_rate  \\\n",
       "0                         0.00                  0.00   \n",
       "1                         0.00                  0.00   \n",
       "2                         0.00                  1.00   \n",
       "3                         0.04                  0.03   \n",
       "4                         0.00                  0.00   \n",
       "\n",
       "   dst_host_srv_serror_rate  dst_host_rerror_rate  dst_host_srv_rerror_rate  \\\n",
       "0                      0.00                  0.05                      0.00   \n",
       "1                      0.00                  0.00                      0.00   \n",
       "2                      1.00                  0.00                      0.00   \n",
       "3                      0.01                  0.00                      0.01   \n",
       "4                      0.00                  0.00                      0.00   \n",
       "\n",
       "   label_fine  label_coarse  \n",
       "0           0             0  \n",
       "1           0             0  \n",
       "2           1             2  \n",
       "3           0             0  \n",
       "4           0             0  \n",
       "\n",
       "[5 rows x 43 columns]"
      ]
     },
     "execution_count": 14,
     "metadata": {},
     "output_type": "execute_result"
    }
   ],
   "source": [
    "traindata.head()"
   ]
  },
  {
   "cell_type": "markdown",
   "metadata": {},
   "source": [
    "## 粗分类标签分布"
   ]
  },
  {
   "cell_type": "code",
   "execution_count": 15,
   "metadata": {},
   "outputs": [
    {
     "name": "stdout",
     "output_type": "stream",
     "text": [
      "0    9711\n",
      "2    7458\n",
      "4    2754\n",
      "1    2421\n",
      "3     200\n",
      "Name: label_coarse, dtype: int64\n"
     ]
    }
   ],
   "source": [
    "print(testdata['label_coarse'].value_counts())"
   ]
  },
  {
   "cell_type": "code",
   "execution_count": 16,
   "metadata": {},
   "outputs": [
    {
     "name": "stdout",
     "output_type": "stream",
     "text": [
      "0    67343\n",
      "2    45927\n",
      "1    11656\n",
      "4      995\n",
      "3       52\n",
      "Name: label_coarse, dtype: int64\n"
     ]
    }
   ],
   "source": [
    "print(traindata['label_coarse'].value_counts().sort_values(ascending=False))"
   ]
  },
  {
   "cell_type": "code",
   "execution_count": 17,
   "metadata": {},
   "outputs": [],
   "source": [
    "coarse_count = traindata['label_coarse'].value_counts()"
   ]
  },
  {
   "cell_type": "code",
   "execution_count": 18,
   "metadata": {
    "scrolled": true
   },
   "outputs": [
    {
     "data": {
      "image/png": "[encoded data removed]",
      "text/plain": [
       "<Figure size 432x288 with 1 Axes>"
      ]
     },
     "metadata": {
      "needs_background": "light"
     },
     "output_type": "display_data"
    }
   ],
   "source": [
    "ax = coarse_count.plot(kind='barh', title='Count (coarse)')"
   ]
  },
  {
   "cell_type": "markdown",
   "metadata": {},
   "source": [
    "## 归一化"
   ]
  },
  {
   "cell_type": "code",
   "execution_count": 19,
   "metadata": {},
   "outputs": [],
   "source": [
    "scaler = MinMaxScaler()\n",
    "traindata.iloc[:,0:41] = scaler.fit_transform(traindata.iloc[:,0:41])\n",
    "testdata.iloc[:,0:41] = scaler.fit_transform(testdata.iloc[:,0:41])"
   ]
  },
  {
   "cell_type": "code",
   "execution_count": 20,
   "metadata": {},
   "outputs": [
    {
     "data": {
      "text/html": [
       "<div>\n",
       "<style scoped>\n",
       "    .dataframe tbody tr th:only-of-type {\n",
       "        vertical-align: middle;\n",
       "    }\n",
       "\n",
       "    .dataframe tbody tr th {\n",
       "        vertical-align: top;\n",
       "    }\n",
       "\n",
       "    .dataframe thead th {\n",
       "        text-align: right;\n",
       "    }\n",
       "</style>\n",
       "<table border=\"1\" class=\"dataframe\">\n",
       "  <thead>\n",
       "    <tr style=\"text-align: right;\">\n",
       "      <th></th>\n",
       "      <th>duration</th>\n",
       "      <th>protocol_type</th>\n",
       "      <th>service</th>\n",
       "      <th>flag</th>\n",
       "      <th>src_bytes</th>\n",
       "      <th>dst_bytes</th>\n",
       "      <th>land</th>\n",
       "      <th>wrong_fragment</th>\n",
       "      <th>urgent</th>\n",
       "      <th>hot</th>\n",
       "      <th>...</th>\n",
       "      <th>dst_host_same_srv_rate</th>\n",
       "      <th>dst_host_diff_srv_rate</th>\n",
       "      <th>dst_host_same_src_port_rate</th>\n",
       "      <th>dst_host_srv_diff_host_rate</th>\n",
       "      <th>dst_host_serror_rate</th>\n",
       "      <th>dst_host_srv_serror_rate</th>\n",
       "      <th>dst_host_rerror_rate</th>\n",
       "      <th>dst_host_srv_rerror_rate</th>\n",
       "      <th>label_fine</th>\n",
       "      <th>label_coarse</th>\n",
       "    </tr>\n",
       "  </thead>\n",
       "  <tbody>\n",
       "    <tr>\n",
       "      <th>0</th>\n",
       "      <td>0.0</td>\n",
       "      <td>0.0</td>\n",
       "      <td>0.246377</td>\n",
       "      <td>1.0</td>\n",
       "      <td>3.558064e-07</td>\n",
       "      <td>0.000000e+00</td>\n",
       "      <td>0.0</td>\n",
       "      <td>0.0</td>\n",
       "      <td>0.0</td>\n",
       "      <td>0.0</td>\n",
       "      <td>...</td>\n",
       "      <td>0.17</td>\n",
       "      <td>0.03</td>\n",
       "      <td>0.17</td>\n",
       "      <td>0.00</td>\n",
       "      <td>0.00</td>\n",
       "      <td>0.00</td>\n",
       "      <td>0.05</td>\n",
       "      <td>0.00</td>\n",
       "      <td>0</td>\n",
       "      <td>0</td>\n",
       "    </tr>\n",
       "    <tr>\n",
       "      <th>1</th>\n",
       "      <td>0.0</td>\n",
       "      <td>0.5</td>\n",
       "      <td>0.608696</td>\n",
       "      <td>1.0</td>\n",
       "      <td>1.057999e-07</td>\n",
       "      <td>0.000000e+00</td>\n",
       "      <td>0.0</td>\n",
       "      <td>0.0</td>\n",
       "      <td>0.0</td>\n",
       "      <td>0.0</td>\n",
       "      <td>...</td>\n",
       "      <td>0.00</td>\n",
       "      <td>0.60</td>\n",
       "      <td>0.88</td>\n",
       "      <td>0.00</td>\n",
       "      <td>0.00</td>\n",
       "      <td>0.00</td>\n",
       "      <td>0.00</td>\n",
       "      <td>0.00</td>\n",
       "      <td>0</td>\n",
       "      <td>0</td>\n",
       "    </tr>\n",
       "    <tr>\n",
       "      <th>2</th>\n",
       "      <td>0.0</td>\n",
       "      <td>0.0</td>\n",
       "      <td>0.681159</td>\n",
       "      <td>0.0</td>\n",
       "      <td>0.000000e+00</td>\n",
       "      <td>0.000000e+00</td>\n",
       "      <td>0.0</td>\n",
       "      <td>0.0</td>\n",
       "      <td>0.0</td>\n",
       "      <td>0.0</td>\n",
       "      <td>...</td>\n",
       "      <td>0.10</td>\n",
       "      <td>0.05</td>\n",
       "      <td>0.00</td>\n",
       "      <td>0.00</td>\n",
       "      <td>1.00</td>\n",
       "      <td>1.00</td>\n",
       "      <td>0.00</td>\n",
       "      <td>0.00</td>\n",
       "      <td>1</td>\n",
       "      <td>2</td>\n",
       "    </tr>\n",
       "    <tr>\n",
       "      <th>3</th>\n",
       "      <td>0.0</td>\n",
       "      <td>0.0</td>\n",
       "      <td>0.304348</td>\n",
       "      <td>1.0</td>\n",
       "      <td>1.681203e-07</td>\n",
       "      <td>6.223962e-06</td>\n",
       "      <td>0.0</td>\n",
       "      <td>0.0</td>\n",
       "      <td>0.0</td>\n",
       "      <td>0.0</td>\n",
       "      <td>...</td>\n",
       "      <td>1.00</td>\n",
       "      <td>0.00</td>\n",
       "      <td>0.03</td>\n",
       "      <td>0.04</td>\n",
       "      <td>0.03</td>\n",
       "      <td>0.01</td>\n",
       "      <td>0.00</td>\n",
       "      <td>0.01</td>\n",
       "      <td>0</td>\n",
       "      <td>0</td>\n",
       "    </tr>\n",
       "    <tr>\n",
       "      <th>4</th>\n",
       "      <td>0.0</td>\n",
       "      <td>0.0</td>\n",
       "      <td>0.304348</td>\n",
       "      <td>1.0</td>\n",
       "      <td>1.442067e-07</td>\n",
       "      <td>3.206260e-07</td>\n",
       "      <td>0.0</td>\n",
       "      <td>0.0</td>\n",
       "      <td>0.0</td>\n",
       "      <td>0.0</td>\n",
       "      <td>...</td>\n",
       "      <td>1.00</td>\n",
       "      <td>0.00</td>\n",
       "      <td>0.00</td>\n",
       "      <td>0.00</td>\n",
       "      <td>0.00</td>\n",
       "      <td>0.00</td>\n",
       "      <td>0.00</td>\n",
       "      <td>0.00</td>\n",
       "      <td>0</td>\n",
       "      <td>0</td>\n",
       "    </tr>\n",
       "  </tbody>\n",
       "</table>\n",
       "<p>5 rows × 43 columns</p>\n",
       "</div>"
      ],
      "text/plain": [
       "   duration  protocol_type   service  flag     src_bytes     dst_bytes  land  \\\n",
       "0       0.0            0.0  0.246377   1.0  3.558064e-07  0.000000e+00   0.0   \n",
       "1       0.0            0.5  0.608696   1.0  1.057999e-07  0.000000e+00   0.0   \n",
       "2       0.0            0.0  0.681159   0.0  0.000000e+00  0.000000e+00   0.0   \n",
       "3       0.0            0.0  0.304348   1.0  1.681203e-07  6.223962e-06   0.0   \n",
       "4       0.0            0.0  0.304348   1.0  1.442067e-07  3.206260e-07   0.0   \n",
       "\n",
       "   wrong_fragment  urgent  hot  ...  dst_host_same_srv_rate  \\\n",
       "0             0.0     0.0  0.0  ...                    0.17   \n",
       "1             0.0     0.0  0.0  ...                    0.00   \n",
       "2             0.0     0.0  0.0  ...                    0.10   \n",
       "3             0.0     0.0  0.0  ...                    1.00   \n",
       "4             0.0     0.0  0.0  ...                    1.00   \n",
       "\n",
       "   dst_host_diff_srv_rate  dst_host_same_src_port_rate  \\\n",
       "0                    0.03                         0.17   \n",
       "1                    0.60                         0.88   \n",
       "2                    0.05                         0.00   \n",
       "3                    0.00                         0.03   \n",
       "4                    0.00                         0.00   \n",
       "\n",
       "   dst_host_srv_diff_host_rate  dst_host_serror_rate  \\\n",
       "0                         0.00                  0.00   \n",
       "1                         0.00                  0.00   \n",
       "2                         0.00                  1.00   \n",
       "3                         0.04                  0.03   \n",
       "4                         0.00                  0.00   \n",
       "\n",
       "   dst_host_srv_serror_rate  dst_host_rerror_rate  dst_host_srv_rerror_rate  \\\n",
       "0                      0.00                  0.05                      0.00   \n",
       "1                      0.00                  0.00                      0.00   \n",
       "2                      1.00                  0.00                      0.00   \n",
       "3                      0.01                  0.00                      0.01   \n",
       "4                      0.00                  0.00                      0.00   \n",
       "\n",
       "   label_fine  label_coarse  \n",
       "0           0             0  \n",
       "1           0             0  \n",
       "2           1             2  \n",
       "3           0             0  \n",
       "4           0             0  \n",
       "\n",
       "[5 rows x 43 columns]"
      ]
     },
     "execution_count": 20,
     "metadata": {},
     "output_type": "execute_result"
    }
   ],
   "source": [
    "traindata.head()"
   ]
  },
  {
   "cell_type": "markdown",
   "metadata": {},
   "source": [
    "## 特征选择\n",
    "#### 过滤方差小的"
   ]
  },
  {
   "cell_type": "code",
   "execution_count": 21,
   "metadata": {},
   "outputs": [],
   "source": [
    "# from sklearn.feature_selection import VarianceThreshold\n",
    "# feature_sel = VarianceThreshold(threshold=(.8 * (1 - .8)))\n",
    "# newtrain = feature_sel.fit_transform(traindata)\n",
    "# newtrain = pd.DataFrame(newtrain)\n",
    "# newtrain.head()"
   ]
  },
  {
   "cell_type": "markdown",
   "metadata": {},
   "source": [
    "## 划分训练集"
   ]
  },
  {
   "cell_type": "code",
   "execution_count": 22,
   "metadata": {},
   "outputs": [],
   "source": [
    "X_train = traindata.iloc[:,0:41]\n",
    "Y_train = traindata.loc[:,'label_coarse']\n",
    "X_test = testdata.iloc[:,0:41]\n",
    "Y_test = testdata.loc[:,'label_coarse']\n"
   ]
  },
  {
   "cell_type": "markdown",
   "metadata": {},
   "source": [
    "## 类别不平衡 - 过采样"
   ]
  },
  {
   "cell_type": "code",
   "execution_count": 23,
   "metadata": {},
   "outputs": [],
   "source": [
    "# 过采样\n",
    "# from imblearn.over_sampling import SMOTE\n",
    "# X_train, Y_train = SMOTE().fit_sample(X_train, Y_train)\n",
    "# from collections import Counter\n",
    "# print(sorted(Counter(Y_train).items()))\n"
   ]
  },
  {
   "cell_type": "markdown",
   "metadata": {},
   "source": [
    "## TSNE 高维数据可视化"
   ]
  },
  {
   "cell_type": "code",
   "execution_count": 24,
   "metadata": {
    "scrolled": true
   },
   "outputs": [],
   "source": [
    "from sklearn.manifold import TSNE\n",
    "from matplotlib import cm\n",
    "import matplotlib.pyplot as plt\n",
    "\n",
    "tsne = TSNE(n_components=3, init='pca', n_iter=5000)\n",
    "X_tsne = tsne.fit_transform(X_test[:500])"
   ]
  },
  {
   "cell_type": "code",
   "execution_count": 25,
   "metadata": {},
   "outputs": [
    {
     "data": {
      "image/png": "[encoded data removed]",
      "text/plain": [
       "<Figure size 432x288 with 1 Axes>"
      ]
     },
     "metadata": {
      "needs_background": "light"
     },
     "output_type": "display_data"
    }
   ],
   "source": [
    "# x1轴，x2轴\n",
    "x1, x2 = X_tsne[:, 0], X_tsne[:, 1]\n",
    "\n",
    "for x, y, s in zip(x1, x2, Y_test[:500]):\n",
    "    # 把0-255颜色区间分为5份,然后把标签映射到一个区间\n",
    "    c = cm.rainbow(int(255/5 * s)) \n",
    "    plt.text(x, y, s, backgroundcolor=c, fontsize=9)\n",
    "# plt.scatter(x1, x2, Y_test[:500])\n",
    "    \n",
    "plt.xlim(x1.min(), x1.max())\n",
    "plt.ylim(x2.min(), x2.max())\n",
    "plt.title('Visualize testdata')\n",
    "plt.show()"
   ]
  },
  {
   "cell_type": "code",
   "execution_count": 26,
   "metadata": {},
   "outputs": [
    {
     "data": {
      "image/png": "[encoded data removed]",
      "text/plain": [
       "<Figure size 720x720 with 1 Axes>"
      ]
     },
     "metadata": {
      "needs_background": "light"
     },
     "output_type": "display_data"
    }
   ],
   "source": [
    "def plot_embedding_3d(X, labels, title=None):\n",
    "    # 归一化\n",
    "    x_min, x_max = np.min(X,axis=0), np.max(X,axis=0)\n",
    "    X = (X - x_min) / (x_max - x_min)\n",
    "    #降维后的坐标为（X[i, 0], X[i, 1],X[i,2]），在该位置画出对应的digits\n",
    "    fig = plt.figure(figsize=(10, 10))\n",
    "    ax = fig.add_subplot(1, 1, 1, projection='3d')\n",
    "    x = X[:, 0]\n",
    "    y = X[:, 1]\n",
    "    z = X[:, 2]\n",
    "    for i in range(X.shape[0]):\n",
    "        c = cm.rainbow(int(255/5 * labels[i]))\n",
    "        ax.text(x[i], y[i], z[i], str(labels[i]), color=c, fontdict={'weight': 'bold', 'size': 11})\n",
    "    plt.title(title)\n",
    "    plt.show()\n",
    "\n",
    "import time\n",
    "from mpl_toolkits.mplot3d import Axes3D\n",
    "plot_embedding_3d(X_tsne,Y_test[:500],\"t-SNE 3D testdata\")"
   ]
  },
  {
   "cell_type": "code",
   "execution_count": null,
   "metadata": {},
   "outputs": [],
   "source": []
  },
  {
   "cell_type": "markdown",
   "metadata": {},
   "source": [
    "## 类别不平衡 - 增加类别/样本权重"
   ]
  },
  {
   "cell_type": "code",
   "execution_count": 27,
   "metadata": {
    "scrolled": true
   },
   "outputs": [
    {
     "name": "stdout",
     "output_type": "stream",
     "text": [
      "{0: 0.3741235169208381, 1: 2.1615133836650653, 2: 0.5485792670977856, 3: 484.51153846153846, 4: 25.321206030150755}\n"
     ]
    },
    {
     "name": "stderr",
     "output_type": "stream",
     "text": [
      "G:\\Anaconda\\anaconda\\lib\\site-packages\\sklearn\\utils\\validation.py:71: FutureWarning: Pass classes=[0 1 2 3 4], y=0         0\n",
      "1         0\n",
      "2         2\n",
      "3         0\n",
      "4         0\n",
      "5         2\n",
      "6         2\n",
      "7         2\n",
      "8         2\n",
      "9         2\n",
      "10        2\n",
      "11        2\n",
      "12        0\n",
      "13        4\n",
      "14        2\n",
      "15        2\n",
      "16        0\n",
      "17        1\n",
      "18        0\n",
      "19        0\n",
      "20        2\n",
      "21        2\n",
      "22        0\n",
      "23        0\n",
      "24        2\n",
      "25        0\n",
      "26        2\n",
      "27        0\n",
      "28        0\n",
      "29        0\n",
      "         ..\n",
      "125943    0\n",
      "125944    0\n",
      "125945    0\n",
      "125946    2\n",
      "125947    1\n",
      "125948    2\n",
      "125949    0\n",
      "125950    2\n",
      "125951    0\n",
      "125952    0\n",
      "125953    2\n",
      "125954    0\n",
      "125955    0\n",
      "125956    0\n",
      "125957    0\n",
      "125958    2\n",
      "125959    0\n",
      "125960    0\n",
      "125961    0\n",
      "125962    0\n",
      "125963    0\n",
      "125964    2\n",
      "125965    0\n",
      "125966    2\n",
      "125967    0\n",
      "125968    2\n",
      "125969    0\n",
      "125970    0\n",
      "125971    2\n",
      "125972    0\n",
      "Name: label_coarse, Length: 125973, dtype: int64 as keyword args. From version 0.25 passing these as positional arguments will result in an error\n",
      "  FutureWarning)\n"
     ]
    }
   ],
   "source": [
    "from sklearn.utils import class_weight\n",
    "class_weight = class_weight.compute_class_weight('balanced',\n",
    "                                                 np.unique(Y_train),\n",
    "                                                 Y_train)\n",
    "class_weight = dict(enumerate(class_weight))\n",
    "print(class_weight)"
   ]
  },
  {
   "cell_type": "code",
   "execution_count": 28,
   "metadata": {},
   "outputs": [
    {
     "data": {
      "text/plain": [
       "{0: 0.3741235169208381,\n",
       " 1: 2.1615133836650653,\n",
       " 2: 0.5485792670977856,\n",
       " 3: 484.51153846153846,\n",
       " 4: 25.321206030150755}"
      ]
     },
     "execution_count": 28,
     "metadata": {},
     "output_type": "execute_result"
    }
   ],
   "source": [
    "class_weight"
   ]
  },
  {
   "cell_type": "markdown",
   "metadata": {},
   "source": [
    "## 拓展维度"
   ]
  },
  {
   "cell_type": "code",
   "execution_count": 29,
   "metadata": {},
   "outputs": [],
   "source": [
    "train_x = np.reshape(np.array(X_train), (np.array(X_train).shape[0],np.array(X_train).shape[1],1))\n",
    "test_x = np.reshape(np.array(X_test), (np.array(X_test).shape[0],np.array(X_test).shape[1],1))"
   ]
  },
  {
   "cell_type": "markdown",
   "metadata": {},
   "source": [
    "## CNN-LSTM\n",
    "### <font color=Red>3个特征列onehot与否，都存在样本分布不均匀导致的小样本预测差问题</font>"
   ]
  },
  {
   "cell_type": "code",
   "execution_count": 30,
   "metadata": {},
   "outputs": [],
   "source": [
    "import tensorflow as tf\n",
    "from tensorflow.keras.preprocessing import sequence\n",
    "from tensorflow.keras.models import Sequential\n",
    "from tensorflow.keras.layers import Dense, Dropout, Activation\n",
    "from tensorflow.keras.layers import Embedding\n",
    "from tensorflow.keras.layers import Convolution1D,MaxPooling1D, Flatten,LSTM"
   ]
  },
  {
   "cell_type": "code",
   "execution_count": 31,
   "metadata": {},
   "outputs": [
    {
     "name": "stdout",
     "output_type": "stream",
     "text": [
      "Model: \"sequential\"\n",
      "_________________________________________________________________\n",
      "Layer (type)                 Output Shape              Param #   \n",
      "=================================================================\n",
      "conv1d (Conv1D)              (None, 41, 64)            256       \n",
      "_________________________________________________________________\n",
      "max_pooling1d (MaxPooling1D) (None, 20, 64)            0         \n",
      "_________________________________________________________________\n",
      "lstm (LSTM)                  (None, 526)               1243464   \n",
      "_________________________________________________________________\n",
      "dropout (Dropout)            (None, 526)               0         \n",
      "_________________________________________________________________\n",
      "dense (Dense)                (None, 5)                 2635      \n",
      "=================================================================\n",
      "Total params: 1,246,355\n",
      "Trainable params: 1,246,355\n",
      "Non-trainable params: 0\n",
      "_________________________________________________________________\n"
     ]
    }
   ],
   "source": [
    "model = Sequential()\n",
    "model.add(Convolution1D(64, 3, padding=\"same\",activation=\"relu\",input_shape=(41, 1)))\n",
    "model.add(MaxPooling1D(2))\n",
    "model.add(LSTM(526))\n",
    "model.add(Dropout(0.1))\n",
    "model.add(Dense(5, activation=\"softmax\"))\n",
    "model.compile(optimizer = 'adam', loss = 'sparse_categorical_crossentropy', metrics = ['accuracy'])\n",
    "model.summary()"
   ]
  },
  {
   "cell_type": "code",
   "execution_count": 32,
   "metadata": {},
   "outputs": [
    {
     "name": "stdout",
     "output_type": "stream",
     "text": [
      "WARNING:tensorflow:sample_weight modes were coerced from\n",
      "  ...\n",
      "    to  \n",
      "  ['...']\n",
      "WARNING:tensorflow:sample_weight modes were coerced from\n",
      "  ...\n",
      "    to  \n",
      "  ['...']\n",
      "Train on 113375 samples, validate on 12598 samples\n",
      "Epoch 1/10\n",
      "113375/113375 [==============================] - 37s 323us/sample - loss: 1.2465 - accuracy: 0.5195 - val_loss: 0.8307 - val_accuracy: 0.8905\n",
      "Epoch 2/10\n",
      "113375/113375 [==============================] - 35s 312us/sample - loss: 0.7004 - accuracy: 0.8286 - val_loss: 0.5227 - val_accuracy: 0.8570\n",
      "Epoch 3/10\n",
      "113375/113375 [==============================] - 36s 320us/sample - loss: 0.5468 - accuracy: 0.8553 - val_loss: 0.4914 - val_accuracy: 0.8806\n",
      "Epoch 4/10\n",
      "113375/113375 [==============================] - 38s 335us/sample - loss: 0.4875 - accuracy: 0.8683 - val_loss: 0.5381 - val_accuracy: 0.9186\n",
      "Epoch 5/10\n",
      "113375/113375 [==============================] - 39s 341us/sample - loss: 0.4935 - accuracy: 0.8682 - val_loss: 0.5972 - val_accuracy: 0.8689\n",
      "Epoch 6/10\n",
      "113375/113375 [==============================] - 39s 344us/sample - loss: 0.4363 - accuracy: 0.8761 - val_loss: 0.4821 - val_accuracy: 0.9216\n",
      "Epoch 7/10\n",
      "113375/113375 [==============================] - 43s 377us/sample - loss: 0.4247 - accuracy: 0.8766 - val_loss: 0.4374 - val_accuracy: 0.9196\n",
      "Epoch 8/10\n",
      "113375/113375 [==============================] - 47s 416us/sample - loss: 0.3977 - accuracy: 0.8779 - val_loss: 0.4255 - val_accuracy: 0.9030\n",
      "Epoch 9/10\n",
      "113375/113375 [==============================] - 60s 533us/sample - loss: 0.3590 - accuracy: 0.8963 - val_loss: 0.2908 - val_accuracy: 0.9025\n",
      "Epoch 10/10\n",
      "113375/113375 [==============================] - 63s 556us/sample - loss: 0.3348 - accuracy: 0.9062 - val_loss: 0.3727 - val_accuracy: 0.9482\n"
     ]
    }
   ],
   "source": [
    "history = model.fit(train_x,Y_train,\n",
    "                       epochs = 10,\n",
    "                       batch_size=1000,\n",
    "                    class_weight = class_weight,\n",
    "                       validation_split=0.1)"
   ]
  },
  {
   "cell_type": "code",
   "execution_count": 33,
   "metadata": {},
   "outputs": [],
   "source": [
    "model.save('./save/CNN-LSTM2.h5')"
   ]
  },
  {
   "cell_type": "code",
   "execution_count": 34,
   "metadata": {},
   "outputs": [],
   "source": [
    "import matplotlib.pyplot as plt\n",
    "from matplotlib.pyplot import MultipleLocator\n",
    "\n",
    "def show_history(history):\n",
    "    plt.figure(figsize=(10, 5))\n",
    "    \n",
    "    plt.subplot(121)\n",
    "    plt.plot(history.history['accuracy'], c='b', label='train')\n",
    "    plt.plot(history.history['val_accuracy'], c='g', label='validation')\n",
    "    plt.legend()\n",
    "    ax = plt.gca()\n",
    "    ax.yaxis.set_major_locator(MultipleLocator(.02))\n",
    "    plt.xlabel('epoch')\n",
    "    plt.ylabel('accuracy')\n",
    "    plt.title('Model accuracy')\n",
    "\n",
    "    plt.subplot(122)\n",
    "    plt.plot(history.history['loss'], c='b', label='train')\n",
    "    plt.plot(history.history['val_loss'], c='g', label='validation')\n",
    "    plt.legend()\n",
    "    ax = plt.gca()\n",
    "    ax.yaxis.set_major_locator(MultipleLocator(.05))\n",
    "    plt.xlabel('epoch')\n",
    "    plt.ylabel('loss')\n",
    "    plt.title('Model loss')\n",
    "\n",
    "    plt.show()"
   ]
  },
  {
   "cell_type": "code",
   "execution_count": 35,
   "metadata": {},
   "outputs": [
    {
     "data": {
      "image/png": "[encoded data removed]",
      "text/plain": [
       "<Figure size 720x360 with 2 Axes>"
      ]
     },
     "metadata": {
      "needs_background": "light"
     },
     "output_type": "display_data"
    }
   ],
   "source": [
    "show_history(history)"
   ]
  },
  {
   "cell_type": "code",
   "execution_count": 36,
   "metadata": {},
   "outputs": [
    {
     "name": "stdout",
     "output_type": "stream",
     "text": [
      "              precision    recall  f1-score   support\n",
      "\n",
      "           0       0.69      0.95      0.80      9711\n",
      "           1       0.58      0.58      0.58      2421\n",
      "           2       0.94      0.71      0.81      7458\n",
      "           3       0.50      0.14      0.22       200\n",
      "           4       0.89      0.32      0.47      2754\n",
      "\n",
      "    accuracy                           0.75     22544\n",
      "   macro avg       0.72      0.54      0.58     22544\n",
      "weighted avg       0.78      0.75      0.73     22544\n",
      "\n"
     ]
    }
   ],
   "source": [
    "pre = model.predict(test_x)\n",
    "pre = np.argmax(pre, axis=1)\n",
    "print(classification_report(Y_test, pre))"
   ]
  },
  {
   "cell_type": "code",
   "execution_count": null,
   "metadata": {},
   "outputs": [],
   "source": []
  }
 ],
 "metadata": {
  "kernelspec": {
   "display_name": "Python 3",
   "language": "python",
   "name": "python3"
  },
  "language_info": {
   "codemirror_mode": {
    "name": "ipython",
    "version": 3
   },
   "file_extension": ".py",
   "mimetype": "text/x-python",
   "name": "python",
   "nbconvert_exporter": "python",
   "pygments_lexer": "ipython3",
   "version": "3.7.3"
  }
 },
 "nbformat": 4,
 "nbformat_minor": 2
}
